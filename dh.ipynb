{
  "nbformat": 4,
  "nbformat_minor": 0,
  "metadata": {
    "colab": {
      "name": "dh.ipynb",
      "provenance": [],
      "authorship_tag": "ABX9TyNv3enLisRKuqEzfBaikaGB",
      "include_colab_link": true
    },
    "kernelspec": {
      "name": "python3",
      "display_name": "Python 3"
    }
  },
  "cells": [
    {
      "cell_type": "markdown",
      "metadata": {
        "id": "view-in-github",
        "colab_type": "text"
      },
      "source": [
        "<a href=\"https://colab.research.google.com/github/karoldem/dh/blob/master/dh.ipynb\" target=\"_parent\"><img src=\"https://colab.research.google.com/assets/colab-badge.svg\" alt=\"Open In Colab\"/></a>"
      ]
    },
    {
      "cell_type": "code",
      "metadata": {
        "id": "rKKmTKhW3oI5",
        "colab_type": "code",
        "colab": {}
      },
      "source": [
        "import sympy\n",
        "\n",
        "class dh:\n",
        "  def __init__(self,n):\n",
        "    self.table = []\n",
        "    for i in range (n):\n",
        "      self.table.append({'a': sympy.symbols(r'a_' + str(i+1)),\n",
        "                  'al':sympy.symbols(r'\\alpha_' + str(i+1)),\n",
        "                  'd': sympy.symbols(r'd_' +  str(i+1)),\n",
        "                  't': sympy.symbols(r'\\theta_' +  str(i+1))\n",
        "                  })\n",
        "\n",
        "  def dhm(self,i):\n",
        "    return (sympy.Matrix([[sympy.cos(i['t']), -sympy.sin(i['t'])*sympy.cos(i['al']), sympy.sin(i['t'])*sympy.sin(i['al']), i['a']*sympy.cos(i['t'])],\n",
        "                          [sympy.sin(i['t']), sympy.cos(i['t'])*sympy.cos(i['al']), -sympy.cos(i['t'])*sympy.sin(i['al']), i['a']*sympy.sin(i['t'])],\n",
        "                          [0, sympy.sin(i['al']), sympy.cos(i['al']), i['d']],\n",
        "                          [0,0,0,1]]))\n",
        "    \n",
        "  def makematrix (self):\n",
        "    self.t = sympy.eye(4)\n",
        "    for i in self.table:\n",
        "      self.t = self.t*dhm(i)\n",
        "  \n",
        "  def jacobian (self,x):\n",
        "    self.x = sympy.Matrix(1,0,[])\n",
        "    for i in x:\n",
        "      self.x = sympy.Matrix([i]).col_insert(0,self.x)\n",
        "      pass\n",
        "    \n",
        "    self.placement = self.t * sympy.Matrix([[0,0,0,1]]).T\n",
        "    self.j = self.placement.T.jacobian( self.x )\n",
        "\n",
        "    for i in range(len( self.j )):\n",
        "      self.j[i] = sympy.simplify( self.j[i] )\n",
        "\n"
      ],
      "execution_count": 0,
      "outputs": []
    },
    {
      "cell_type": "code",
      "metadata": {
        "id": "poOxXPD4AwLx",
        "colab_type": "code",
        "outputId": "cd0f4df7-4f38-4fe2-80bb-bd00a0f33a9d",
        "colab": {
          "base_uri": "https://localhost:8080/",
          "height": 71
        }
      },
      "source": [
        "antropomorphic = dh(3)\n",
        "\n",
        "antropomorphic.table[0]['a'] = 0\n",
        "antropomorphic.table[0]['al'] = sympy.rad(90)\n",
        "\n",
        "antropomorphic.table[1]['d'] = 0\n",
        "antropomorphic.table[1]['al'] = 0\n",
        "\n",
        "antropomorphic.table[2]['d'] = 0\n",
        "antropomorphic.table[2]['al'] = 0\n",
        "\n",
        "antropomorphic.makematrix()\n",
        "\n",
        "antropomorphic.jacobian([antropomorphic.table[0]['t'], \n",
        "                         antropomorphic.table[1]['t'], \n",
        "                         antropomorphic.table[2]['t'] ])\n",
        "\n",
        "print(str(sympy.latex( antropomorphic.j )))\n",
        "print('')"
      ],
      "execution_count": 0,
      "outputs": [
        {
          "output_type": "stream",
          "text": [
            "\\left[\\begin{matrix}- \\left(a_{2} \\cos{\\left (\\theta_2 \\right )} + a_{3} \\cos{\\left (\\theta_2 + \\theta_3 \\right )}\\right) \\sin{\\left (\\theta_1 \\right )} & - \\left(a_{2} \\sin{\\left (\\theta_2 \\right )} + a_{3} \\sin{\\left (\\theta_2 + \\theta_3 \\right )}\\right) \\cos{\\left (\\theta_1 \\right )} & - a_{3} \\sin{\\left (\\theta_2 + \\theta_3 \\right )} \\cos{\\left (\\theta_1 \\right )}\\\\\\left(a_{2} \\cos{\\left (\\theta_2 \\right )} + a_{3} \\cos{\\left (\\theta_2 + \\theta_3 \\right )}\\right) \\cos{\\left (\\theta_1 \\right )} & - \\left(a_{2} \\sin{\\left (\\theta_2 \\right )} + a_{3} \\sin{\\left (\\theta_2 + \\theta_3 \\right )}\\right) \\sin{\\left (\\theta_1 \\right )} & - a_{3} \\sin{\\left (\\theta_1 \\right )} \\sin{\\left (\\theta_2 + \\theta_3 \\right )}\\\\0 & a_{2} \\cos{\\left (\\theta_2 \\right )} + a_{3} \\cos{\\left (\\theta_2 + \\theta_3 \\right )} & a_{3} \\cos{\\left (\\theta_2 + \\theta_3 \\right )}\\\\0 & 0 & 0\\end{matrix}\\right]\n",
            "\n"
          ],
          "name": "stdout"
        }
      ]
    },
    {
      "cell_type": "code",
      "metadata": {
        "id": "cYXXkLw_YfK5",
        "colab_type": "code",
        "colab": {}
      },
      "source": [
        "\n",
        "dh = dhp(3)\n",
        "dh [0]['al'] = 0\n",
        "dh [1]['al'] = 0\n",
        "dh [2]['al'] = 0\n",
        "\n",
        "dh[2]['a'] = 0\n",
        "\n",
        "dh[1]['d'] = 0\n",
        "dh[2]['t'] = 0\n",
        "\n",
        "\n",
        "t1, t2, t3 = dhm(dh[0]), dhm(dh[1]), dhm(dh[2])\n",
        "t = dhm(dh[0]) * dhm(dh[1]) * dhm(dh[2])\n",
        "\n",
        "for k in t1, t2, t3, t:\n",
        "  for i in range(16):\n",
        "    k[i]= sympy.simplify(k[i])\n",
        "\n",
        "\n",
        "\n"
      ],
      "execution_count": 0,
      "outputs": []
    },
    {
      "cell_type": "code",
      "metadata": {
        "id": "mVR26mjzYTtu",
        "colab_type": "code",
        "colab": {}
      },
      "source": [
        "t1, t2, t3 = dhm(dh[0]), dhm(dh[1]), dhm(dh[2])\n",
        "t = dhm(dh[0]) * dhm(dh[1]) * dhm(dh[2])\n",
        "\n",
        "for k in t1, t2, t3, t:\n",
        "  for i in range(16):\n",
        "    k[i]= sympy.simplify(k[i])\n",
        "\n",
        "print (r'$$')\n",
        "print (r'^0 T_1 = ')\n",
        "print(str(sympy.latex(t1)))\n",
        "print (r'$$')\n",
        "\n",
        "print (r'$$')\n",
        "print (r'^1 T_2 = ')\n",
        "print(str(sympy.latex(t2)))\n",
        "print (r'$$')\n",
        "\n",
        "print (r'$$')\n",
        "print (r'^2 T_3 = ')\n",
        "print(str(sympy.latex(t3)))\n",
        "print (r'$$')\n",
        "\n",
        "print (r'$$')\n",
        "print (r'^2 T_4 = ')\n",
        "print(str(sympy.latex(t4)))\n",
        "print (r'$$')\n",
        "\n",
        "\n",
        "\n",
        "\n",
        "print ('')\n",
        "print ('$$ ^0 T_4= ')\n",
        "print(str(sympy.latex(t)))\n",
        "print ('$$')\n",
        "\n",
        "dh = [{'a': 1, 'al': 0, 'd': 1, 't': 0 },\n",
        "  {'a': 1, 'al':  0, 'd': 0, 't': 0},\n",
        "  {'a': 0, 'al':  0, 'd':1, 't': 0},\n",
        "  {'a': 0, 'al':  0, 'd':0, 't': 0}]\n",
        "\n",
        "t1, t2, t3, t4 = dhm(dh[0]), dhm(dh[1]), dhm(dh[2]), dhm(dh[3])\n",
        "t = dhm(dh[0]) * dhm(dh[1]) * dhm(dh[2])  * dhm(dh[3])\n",
        "\n",
        "for k in t1, t2, t3,t4, t:\n",
        "  for i in range(16):\n",
        "    k[i]= sympy.simplify(k[i])\n",
        "\n",
        "print ('')\n",
        "print (r'$$ ^0 T_4 \\cdot \\left[\\begin{matrix}0\\\\0\\\\0\\\\1\\end{matrix}\\right] =')\n",
        "print(str(sympy.latex(t*sympy.Matrix([[0], [0], [0], [1]]))))\n",
        "print ('$$')"
      ],
      "execution_count": 0,
      "outputs": []
    }
  ]
}