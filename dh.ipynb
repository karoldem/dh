{
  "nbformat": 4,
  "nbformat_minor": 0,
  "metadata": {
    "colab": {
      "name": "dh.ipynb",
      "provenance": [],
      "authorship_tag": "ABX9TyOj+z9fXmElMvXS9XzI/uTI",
      "include_colab_link": true
    },
    "kernelspec": {
      "name": "python3",
      "display_name": "Python 3"
    }
  },
  "cells": [
    {
      "cell_type": "markdown",
      "metadata": {
        "id": "view-in-github",
        "colab_type": "text"
      },
      "source": [
        "<a href=\"https://colab.research.google.com/github/karoldem/dh/blob/master/dh.ipynb\" target=\"_parent\"><img src=\"https://colab.research.google.com/assets/colab-badge.svg\" alt=\"Open In Colab\"/></a>"
      ]
    },
    {
      "cell_type": "code",
      "metadata": {
        "id": "rKKmTKhW3oI5",
        "colab_type": "code",
        "colab": {}
      },
      "source": [
        "import sympy\n",
        "\n",
        "class dh:\n",
        "  def __init__(self,n):\n",
        "    self.table = []\n",
        "    for i in range (n):\n",
        "      self.table.append({'a': sympy.symbols(r'a_' + str(i+1)),\n",
        "                  'al':sympy.symbols(r'\\alpha_' + str(i+1)),\n",
        "                  'd': sympy.symbols(r'd_' +  str(i+1)),\n",
        "                  't': sympy.symbols(r'\\theta_' +  str(i+1))\n",
        "                  })\n",
        "\n",
        "  def dhm(self,i):\n",
        "    return (sympy.Matrix([[sympy.cos(i['t']), -sympy.sin(i['t'])*sympy.cos(i['al']), sympy.sin(i['t'])*sympy.sin(i['al']), i['a']*sympy.cos(i['t'])],\n",
        "                          [sympy.sin(i['t']), sympy.cos(i['t'])*sympy.cos(i['al']), -sympy.cos(i['t'])*sympy.sin(i['al']), i['a']*sympy.sin(i['t'])],\n",
        "                          [0, sympy.sin(i['al']), sympy.cos(i['al']), i['d']],\n",
        "                          [0,0,0,1]]))\n",
        "    \n",
        "  def makematrix (self):\n",
        "    self.t = sympy.eye(4)\n",
        "    for i in self.table:\n",
        "      self.t = self.t*self.dhm(i)\n",
        "  \n",
        "  def jacobian (self,x):\n",
        "    self.x = sympy.Matrix(1,0,[])\n",
        "    for i in x:\n",
        "      self.x = sympy.Matrix([i]).col_insert(0,self.x)\n",
        "      pass\n",
        "    \n",
        "    self.placement = self.t * sympy.Matrix([[0,0,0,1]]).T\n",
        "    self.j = self.placement.T.jacobian( self.x )\n",
        "\n",
        "    self.j.row_del(3)\n",
        "\n",
        "    for i in range(len( self.j )):\n",
        "      self.j[i] = sympy.simplify( self.j[i] )\n",
        "    \n",
        "  def print_transorm_matrices(self):\n",
        "    for i in range (len( self.table )):\n",
        "      t = self.dhm( self.table[i] )\n",
        "\n",
        "      for j in range (16):\n",
        "        t[j] = sympy.simplify(t[j])\n",
        "      \n",
        "      print (r'$$')\n",
        "      print (r'^' + str(i) + r'T_' +str(i+1) +  r' = ')\n",
        "      print(str(sympy.latex(t)))\n",
        "      print (r'$$')\n",
        "\n",
        "    print (r'$$')\n",
        "    print (r'^0 T_'+ str(len(self.table)) + r' = ')\n",
        "    print(str(sympy.latex( self.t )))\n",
        "    print (r'$$')"
      ],
      "execution_count": 0,
      "outputs": []
    },
    {
      "cell_type": "code",
      "metadata": {
        "id": "poOxXPD4AwLx",
        "colab_type": "code",
        "colab": {
          "base_uri": "https://localhost:8080/",
          "height": 377
        },
        "outputId": "b20e4b42-68f6-4a3c-f6c5-072e4d07fb21"
      },
      "source": [
        "antropomorphic = dh(3) #constructor creates dh table with special kind of variables (google sympy library for more)\n",
        "\n",
        "#here we replace those variables with constatns (al means alpha, t means theta)\n",
        "antropomorphic.table[0]['a'] = 0\n",
        "antropomorphic.table[0]['al'] = sympy.rad(90)\n",
        "\n",
        "antropomorphic.table[1]['d'] = 0\n",
        "antropomorphic.table[1]['al'] = 0\n",
        "\n",
        "antropomorphic.table[2]['d'] = 0\n",
        "antropomorphic.table[2]['al'] = 0\n",
        "\n",
        "#transformation matrix based on table\n",
        "antropomorphic.makematrix()\n",
        "\n",
        "# jacobian of placement of TCP zero point based on transformation matrix in function of arguments of function below\n",
        "antropomorphic.jacobian([antropomorphic.table[0]['t'], \n",
        "                         antropomorphic.table[1]['t'], \n",
        "                         antropomorphic.table[2]['t'] ])\n",
        "print(r'$$')\n",
        "print(str(sympy.latex( antropomorphic.j )))\n",
        "print(r'$$')\n",
        "print('')\n",
        "\n",
        "antropomorphic.print_transorm_matrices()"
      ],
      "execution_count": 11,
      "outputs": [
        {
          "output_type": "stream",
          "text": [
            "$$\n",
            "\\left[\\begin{matrix}- \\left(a_{2} \\cos{\\left (\\theta_2 \\right )} + a_{3} \\cos{\\left (\\theta_2 + \\theta_3 \\right )}\\right) \\sin{\\left (\\theta_1 \\right )} & - \\left(a_{2} \\sin{\\left (\\theta_2 \\right )} + a_{3} \\sin{\\left (\\theta_2 + \\theta_3 \\right )}\\right) \\cos{\\left (\\theta_1 \\right )} & - a_{3} \\sin{\\left (\\theta_2 + \\theta_3 \\right )} \\cos{\\left (\\theta_1 \\right )}\\\\\\left(a_{2} \\cos{\\left (\\theta_2 \\right )} + a_{3} \\cos{\\left (\\theta_2 + \\theta_3 \\right )}\\right) \\cos{\\left (\\theta_1 \\right )} & - \\left(a_{2} \\sin{\\left (\\theta_2 \\right )} + a_{3} \\sin{\\left (\\theta_2 + \\theta_3 \\right )}\\right) \\sin{\\left (\\theta_1 \\right )} & - a_{3} \\sin{\\left (\\theta_1 \\right )} \\sin{\\left (\\theta_2 + \\theta_3 \\right )}\\\\0 & a_{2} \\cos{\\left (\\theta_2 \\right )} + a_{3} \\cos{\\left (\\theta_2 + \\theta_3 \\right )} & a_{3} \\cos{\\left (\\theta_2 + \\theta_3 \\right )}\\end{matrix}\\right]\n",
            "$$\n",
            "\n",
            "$$\n",
            "^0T_1 = \n",
            "\\left[\\begin{matrix}\\cos{\\left (\\theta_1 \\right )} & 0 & \\sin{\\left (\\theta_1 \\right )} & 0\\\\\\sin{\\left (\\theta_1 \\right )} & 0 & - \\cos{\\left (\\theta_1 \\right )} & 0\\\\0 & 1 & 0 & d_{1}\\\\0 & 0 & 0 & 1\\end{matrix}\\right]\n",
            "$$\n",
            "$$\n",
            "^1T_2 = \n",
            "\\left[\\begin{matrix}\\cos{\\left (\\theta_2 \\right )} & - \\sin{\\left (\\theta_2 \\right )} & 0 & a_{2} \\cos{\\left (\\theta_2 \\right )}\\\\\\sin{\\left (\\theta_2 \\right )} & \\cos{\\left (\\theta_2 \\right )} & 0 & a_{2} \\sin{\\left (\\theta_2 \\right )}\\\\0 & 0 & 1 & 0\\\\0 & 0 & 0 & 1\\end{matrix}\\right]\n",
            "$$\n",
            "$$\n",
            "^2T_3 = \n",
            "\\left[\\begin{matrix}\\cos{\\left (\\theta_3 \\right )} & - \\sin{\\left (\\theta_3 \\right )} & 0 & a_{3} \\cos{\\left (\\theta_3 \\right )}\\\\\\sin{\\left (\\theta_3 \\right )} & \\cos{\\left (\\theta_3 \\right )} & 0 & a_{3} \\sin{\\left (\\theta_3 \\right )}\\\\0 & 0 & 1 & 0\\\\0 & 0 & 0 & 1\\end{matrix}\\right]\n",
            "$$\n",
            "$$\n",
            "^0 T_3 = \n",
            "\\left[\\begin{matrix}- \\sin{\\left (\\theta_2 \\right )} \\sin{\\left (\\theta_3 \\right )} \\cos{\\left (\\theta_1 \\right )} + \\cos{\\left (\\theta_1 \\right )} \\cos{\\left (\\theta_2 \\right )} \\cos{\\left (\\theta_3 \\right )} & - \\sin{\\left (\\theta_2 \\right )} \\cos{\\left (\\theta_1 \\right )} \\cos{\\left (\\theta_3 \\right )} - \\sin{\\left (\\theta_3 \\right )} \\cos{\\left (\\theta_1 \\right )} \\cos{\\left (\\theta_2 \\right )} & \\sin{\\left (\\theta_1 \\right )} & a_{2} \\cos{\\left (\\theta_1 \\right )} \\cos{\\left (\\theta_2 \\right )} - a_{3} \\sin{\\left (\\theta_2 \\right )} \\sin{\\left (\\theta_3 \\right )} \\cos{\\left (\\theta_1 \\right )} + a_{3} \\cos{\\left (\\theta_1 \\right )} \\cos{\\left (\\theta_2 \\right )} \\cos{\\left (\\theta_3 \\right )}\\\\- \\sin{\\left (\\theta_1 \\right )} \\sin{\\left (\\theta_2 \\right )} \\sin{\\left (\\theta_3 \\right )} + \\sin{\\left (\\theta_1 \\right )} \\cos{\\left (\\theta_2 \\right )} \\cos{\\left (\\theta_3 \\right )} & - \\sin{\\left (\\theta_1 \\right )} \\sin{\\left (\\theta_2 \\right )} \\cos{\\left (\\theta_3 \\right )} - \\sin{\\left (\\theta_1 \\right )} \\sin{\\left (\\theta_3 \\right )} \\cos{\\left (\\theta_2 \\right )} & - \\cos{\\left (\\theta_1 \\right )} & a_{2} \\sin{\\left (\\theta_1 \\right )} \\cos{\\left (\\theta_2 \\right )} - a_{3} \\sin{\\left (\\theta_1 \\right )} \\sin{\\left (\\theta_2 \\right )} \\sin{\\left (\\theta_3 \\right )} + a_{3} \\sin{\\left (\\theta_1 \\right )} \\cos{\\left (\\theta_2 \\right )} \\cos{\\left (\\theta_3 \\right )}\\\\\\sin{\\left (\\theta_2 \\right )} \\cos{\\left (\\theta_3 \\right )} + \\sin{\\left (\\theta_3 \\right )} \\cos{\\left (\\theta_2 \\right )} & - \\sin{\\left (\\theta_2 \\right )} \\sin{\\left (\\theta_3 \\right )} + \\cos{\\left (\\theta_2 \\right )} \\cos{\\left (\\theta_3 \\right )} & 0 & a_{2} \\sin{\\left (\\theta_2 \\right )} + a_{3} \\sin{\\left (\\theta_2 \\right )} \\cos{\\left (\\theta_3 \\right )} + a_{3} \\sin{\\left (\\theta_3 \\right )} \\cos{\\left (\\theta_2 \\right )} + d_{1}\\\\0 & 0 & 0 & 1\\end{matrix}\\right]\n",
            "$$\n"
          ],
          "name": "stdout"
        }
      ]
    }
  ]
}