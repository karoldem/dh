{
  "nbformat": 4,
  "nbformat_minor": 0,
  "metadata": {
    "colab": {
      "name": "dh.ipynb",
      "provenance": [],
      "authorship_tag": "ABX9TyN3B+7kdKvaSltDyZins+Sf",
      "include_colab_link": true
    },
    "kernelspec": {
      "name": "python3",
      "display_name": "Python 3"
    }
  },
  "cells": [
    {
      "cell_type": "markdown",
      "metadata": {
        "id": "view-in-github",
        "colab_type": "text"
      },
      "source": [
        "<a href=\"https://colab.research.google.com/github/karoldem/dh/blob/master/dh.ipynb\" target=\"_parent\"><img src=\"https://colab.research.google.com/assets/colab-badge.svg\" alt=\"Open In Colab\"/></a>"
      ]
    },
    {
      "cell_type": "code",
      "metadata": {
        "id": "rKKmTKhW3oI5"
      },
      "source": [
        "import sympy\n",
        "\n",
        "class dh:\n",
        "  def __init__(self,n):\n",
        "    self.table = []\n",
        "    for i in range (n):\n",
        "      self.table.append({'a': sympy.symbols(r'a_' + str(i+1), real = True),\n",
        "                  'al':sympy.symbols(r'\\alpha_' + str(i+1), real = True),\n",
        "                  'd': sympy.symbols(r'd_' +  str(i+1), real = True),\n",
        "                  't': sympy.symbols(r'\\theta_' +  str(i+1), real = True),\n",
        "                  'x':'t'})\n",
        "\n",
        "  def dhm(self,i):\n",
        "    \"\"\"\n",
        "    Creates transform matrix of a joint. \n",
        "    \"\"\"\n",
        "    return (sympy.Matrix([  [sympy.cos(i['t']), -sympy.sin(i['t'])*sympy.cos(i['al']), sympy.sin(i['t'])*sympy.sin(i['al']), i['a']*sympy.cos(i['t'])],\n",
        "                            [sympy.sin(i['t']), sympy.cos(i['t'])*sympy.cos(i['al']), -sympy.cos(i['t'])*sympy.sin(i['al']), i['a']*sympy.sin(i['t'])],\n",
        "                            [0, sympy.sin(i['al']), sympy.cos(i['al']), i['d']],\n",
        "                            [0,0,0,1]  ]))\n",
        "    \n",
        "  def makematrix (self):\n",
        "    t = sympy.eye(4)\n",
        "    for i in self.table:\n",
        "      t = t*self.dhm(i)\n",
        "    return t\n",
        "  \n",
        "  def rotX(self,a):\n",
        "    return sympy.Matrix([  [1,0,0,0],\n",
        "                           [0,sympy.cos(a), -sympy.sin(a),0],\n",
        "                           [0,sympy.sin(a), sympy.cos(a),0],\n",
        "                           [0,0,0,1]  ])\n",
        "  \n",
        "  def rotY(self,a):\n",
        "    return sympy.Matrix([  [sympy.cos(a), 0, sympy.sin(a),0],\n",
        "                           [0,1,0,0],\n",
        "                           [-sympy.sin(a),0,sympy.cos(a),0],\n",
        "                           [0,0,0,1]  ])\n",
        "  def rotZ(self,a):\n",
        "    return sympy.Matrix([  [sympy.cos(a), -sympy.sin(a),0,0],\n",
        "                           [sympy.sin(a), sympy.cos(a),0,0],\n",
        "                           [0,0,1,0],\n",
        "                           [0,0,0,1]  ])\n",
        "\n",
        "  def jacobian_matrix (self):\n",
        "    correct_x = sympy.Matrix(1,0,[])\n",
        "    for i in self.table:\n",
        "      correct_x = sympy.Matrix([ i[ i['x'] ] ]).col_insert(0,correct_x)\n",
        "      pass\n",
        "    \n",
        "    t = sympy.eye(4)\n",
        "    for i in self.table:\n",
        "      t = t*self.dhm(i)\n",
        "\n",
        "    self.placement = t * sympy.Matrix([[0,0,0,1]]).T\n",
        "    j = self.placement.T.jacobian( correct_x )\n",
        "    j.row_del(3)\n",
        "\n",
        "    for i in range(len( j )):\n",
        "      j[i] = sympy.simplify( j[i] )\n",
        "    \n",
        "    return j\n",
        "  \n",
        "  def jacobian (self): return sympy.simplify( self.jacobian_matrix().det() )\n",
        "\n",
        "  def singular_config(self): return list(map(lambda x: sympy.solve (self.jacobian(), x[x['x']] ), self.table))\n",
        "\n",
        "  def print_jacobian_matrix (self):\n",
        "    print (r'$$')\n",
        "    print (r'J = ' + str(sympy.latex( self.jacobian_matrix() )))\n",
        "    print (r\"$$\")\n",
        "    print (r'')\n",
        "\n",
        "    \n",
        "  def print_transorm_matrices(self):\n",
        "    for i in range (len( self.table )):\n",
        "      t = self.dhm( self.table[i] )\n",
        "\n",
        "      for j in range (16):\n",
        "        t[j] = sympy.simplify(t[j])\n",
        "      \n",
        "      print (r'$$')\n",
        "      print (r'^' + str(i) + r'T_' +str(i+1) +  r' = ')\n",
        "      print(str(sympy.latex(t)))\n",
        "      print (r'$$')\n",
        "\n",
        "    print (r'$$')\n",
        "    print (r'^0 T_'+ str(len(self.table)) + r' = ')\n",
        "    print(str(sympy.latex( self.makematrix() )))\n",
        "    print (r'$$')\n",
        "  \n",
        "  def forward_kinematics_3D(self):\n",
        "    m = self.makematrix()*sympy.Matrix([[0],[0],[0],[1]])\n",
        "    for i in range (4):\n",
        "      m[i] = sympy.simplify(m[i])\n",
        "    return m\n",
        "    "
      ],
      "execution_count": null,
      "outputs": []
    },
    {
      "cell_type": "code",
      "metadata": {
        "id": "XmrHMza9PF35",
        "colab": {
          "base_uri": "https://localhost:8080/",
          "height": 119
        },
        "outputId": "c18f4726-48e0-4348-a748-8f5bb23a7ed7"
      },
      "source": [
        "primitive = dh(2)\n",
        "\n",
        "primitive.table[0]['d'] = 0\n",
        "primitive.table[0]['al'] = 0\n",
        "\n",
        "primitive.table[1]['d'] = 0\n",
        "primitive.table[1]['al'] = 0\n",
        "\n",
        "k = primitive.forward_kinematics_3D()\n",
        "\n",
        "sympy.solve([k[0], k[1]], [primitive.table[0]['t'], primitive.table[1]['t']])"
      ],
      "execution_count": null,
      "outputs": [
        {
          "output_type": "execute_result",
          "data": {
            "text/plain": [
              "[(pi, -acos(-a_1/a_2) + 2*pi),\n",
              " (pi, acos(-a_1/a_2)),\n",
              " (-I*log((a_2 - sqrt(-a_1**2 + a_2**2))/a_1),\n",
              "  -I*log(-a_1/(a_2 - sqrt(-a_1**2 + a_2**2)))),\n",
              " (-I*log((a_2 + sqrt(-a_1**2 + a_2**2))/a_1),\n",
              "  -I*log(-a_1/(a_2 + sqrt(-a_1**2 + a_2**2))))]"
            ]
          },
          "metadata": {
            "tags": []
          },
          "execution_count": 9
        }
      ]
    },
    {
      "cell_type": "code",
      "metadata": {
        "id": "jBMJDp3Yt7K2",
        "colab": {
          "base_uri": "https://localhost:8080/",
          "height": 102
        },
        "outputId": "a5e19814-7ed3-4e75-c2ad-353044634b61"
      },
      "source": [
        "cartesian = dh(3)\n",
        "cartesian.table[0]['a'] = 0\n",
        "cartesian.table[1]['a'] = 0\n",
        "cartesian.table[2]['a'] = 0\n",
        "\n",
        "cartesian.table[0]['t'] = 0\n",
        "cartesian.table[0]['al'] = -sympy.rad(90)\n",
        "cartesian.table[0]['x'] = 'd'\n",
        "\n",
        "cartesian.table[1]['t'] = sympy.rad(90)\n",
        "cartesian.table[1]['al'] = sympy.rad(90)\n",
        "cartesian.table[1]['x'] = 'd'\n",
        "\n",
        "cartesian.table[2]['t'] = 0\n",
        "cartesian.table[2]['al'] = 0\n",
        "cartesian.table[2]['x'] = 'd'\n",
        "\n",
        "cartesian.forward_kinematics_3D()\n",
        "\n",
        "def reverse(pos):\n",
        "  return [pos(2), pos(1), pos(0)]\n"
      ],
      "execution_count": null,
      "outputs": [
        {
          "output_type": "execute_result",
          "data": {
            "text/plain": [
              "Matrix([\n",
              "[d_3],\n",
              "[d_2],\n",
              "[d_1],\n",
              "[  1]])"
            ]
          },
          "metadata": {
            "tags": []
          },
          "execution_count": 7
        }
      ]
    },
    {
      "cell_type": "markdown",
      "metadata": {
        "id": "xjzO4JQPWxE2"
      },
      "source": [
        "Here we define our robot constructor created dh table in field `table` with special kind of variables (google sympy library for more). To define a robot, user must replace those variables with constants (or any other type - free country).\n",
        "If you happen to contribute, let us agree, that this is what makes a robot waht it is and any other method must base on it (unlike in FreeCAD project if you know what I mean)"
      ]
    },
    {
      "cell_type": "code",
      "metadata": {
        "id": "poOxXPD4AwLx",
        "colab": {
          "base_uri": "https://localhost:8080/",
          "height": 102
        },
        "outputId": "86b0d74b-e950-490d-b80c-0f0b4215b6dc"
      },
      "source": [
        "antropomorphic = dh(3) #constructor creates dh table with special kind of variables (google sympy library for more)\n",
        "\n",
        "#here we replace those variables with constatns (al means alpha, t means theta)\n",
        "antropomorphic.table[0]['a'] = 0\n",
        "antropomorphic.table[0]['al'] = sympy.rad(90)\n",
        "\n",
        "antropomorphic.table[1]['d'] = 0\n",
        "antropomorphic.table[1]['al'] = 0\n",
        "\n",
        "antropomorphic.table[2]['d'] = 0\n",
        "antropomorphic.table[2]['al'] = 0\n",
        "\n",
        "antropomorphic.forward_kinematics_3D()"
      ],
      "execution_count": null,
      "outputs": [
        {
          "output_type": "execute_result",
          "data": {
            "text/plain": [
              "Matrix([\n",
              "[(a_2*cos(\\theta_2) + a_3*cos(\\theta_2 + \\theta_3))*cos(\\theta_1)],\n",
              "[(a_2*cos(\\theta_2) + a_3*cos(\\theta_2 + \\theta_3))*sin(\\theta_1)],\n",
              "[          a_2*sin(\\theta_2) + a_3*sin(\\theta_2 + \\theta_3) + d_1],\n",
              "[                                                               1]])"
            ]
          },
          "metadata": {
            "tags": []
          },
          "execution_count": 16
        }
      ]
    },
    {
      "cell_type": "code",
      "metadata": {
        "id": "sUqwX_yokqc1",
        "colab": {
          "base_uri": "https://localhost:8080/",
          "height": 105
        },
        "outputId": "9d7bdb53-bc81-4bec-a017-27650fdf3c2b"
      },
      "source": [
        "antropomorphic.print_jacobian_matrix()"
      ],
      "execution_count": null,
      "outputs": [
        {
          "output_type": "stream",
          "text": [
            "$$\n",
            "J = \\left[\\begin{matrix}- \\left(a_{2} \\cos{\\left (\\theta_2 \\right )} + a_{3} \\cos{\\left (\\theta_2 + \\theta_3 \\right )}\\right) \\sin{\\left (\\theta_1 \\right )} & - \\left(a_{2} \\sin{\\left (\\theta_2 \\right )} + a_{3} \\sin{\\left (\\theta_2 + \\theta_3 \\right )}\\right) \\cos{\\left (\\theta_1 \\right )} & - a_{3} \\sin{\\left (\\theta_2 + \\theta_3 \\right )} \\cos{\\left (\\theta_1 \\right )}\\\\\\left(a_{2} \\cos{\\left (\\theta_2 \\right )} + a_{3} \\cos{\\left (\\theta_2 + \\theta_3 \\right )}\\right) \\cos{\\left (\\theta_1 \\right )} & - \\left(a_{2} \\sin{\\left (\\theta_2 \\right )} + a_{3} \\sin{\\left (\\theta_2 + \\theta_3 \\right )}\\right) \\sin{\\left (\\theta_1 \\right )} & - a_{3} \\sin{\\left (\\theta_1 \\right )} \\sin{\\left (\\theta_2 + \\theta_3 \\right )}\\\\0 & a_{2} \\cos{\\left (\\theta_2 \\right )} + a_{3} \\cos{\\left (\\theta_2 + \\theta_3 \\right )} & a_{3} \\cos{\\left (\\theta_2 + \\theta_3 \\right )}\\end{matrix}\\right]\n",
            "$$\n",
            "\n"
          ],
          "name": "stdout"
        }
      ]
    },
    {
      "cell_type": "markdown",
      "metadata": {
        "id": "oYflInlFyjTT"
      },
      "source": [
        "method `dhm(n)` creates matrix of transformation between nth and (n-1)th coordinate system."
      ]
    },
    {
      "cell_type": "code",
      "metadata": {
        "id": "Xk-OUAkn-BoS",
        "colab": {
          "base_uri": "https://localhost:8080/",
          "height": 102
        },
        "outputId": "a93b24fa-1ee3-4389-8d25-30e2d123b9ec"
      },
      "source": [
        "antropomorphic.dhm(antropomorphic.table[2])"
      ],
      "execution_count": null,
      "outputs": [
        {
          "output_type": "execute_result",
          "data": {
            "text/plain": [
              "Matrix([\n",
              "[cos(\\theta_3), -sin(\\theta_3), 0, a_3*cos(\\theta_3)],\n",
              "[sin(\\theta_3),  cos(\\theta_3), 0, a_3*sin(\\theta_3)],\n",
              "[            0,              0, 1,                 0],\n",
              "[            0,              0, 0,                 1]])"
            ]
          },
          "metadata": {
            "tags": []
          },
          "execution_count": 10
        }
      ]
    },
    {
      "cell_type": "markdown",
      "metadata": {
        "id": "wK70gGs2-rEA"
      },
      "source": [
        "method makematrix() returns transform matrix between zeroth system and TCP"
      ]
    },
    {
      "cell_type": "code",
      "metadata": {
        "id": "51snbySx_Llw",
        "colab": {
          "base_uri": "https://localhost:8080/",
          "height": 122
        },
        "outputId": "a72a2930-71dd-4fb3-a5d3-188a5e0d4879"
      },
      "source": [
        "antropomorphic.makematrix()"
      ],
      "execution_count": null,
      "outputs": [
        {
          "output_type": "execute_result",
          "data": {
            "text/plain": [
              "Matrix([\n",
              "[-sin(\\theta_2)*sin(\\theta_3)*cos(\\theta_1) + cos(\\theta_1)*cos(\\theta_2)*cos(\\theta_3), -sin(\\theta_2)*cos(\\theta_1)*cos(\\theta_3) - sin(\\theta_3)*cos(\\theta_1)*cos(\\theta_2),  sin(\\theta_1), a_2*cos(\\theta_1)*cos(\\theta_2) - a_3*sin(\\theta_2)*sin(\\theta_3)*cos(\\theta_1) + a_3*cos(\\theta_1)*cos(\\theta_2)*cos(\\theta_3)],\n",
              "[-sin(\\theta_1)*sin(\\theta_2)*sin(\\theta_3) + sin(\\theta_1)*cos(\\theta_2)*cos(\\theta_3), -sin(\\theta_1)*sin(\\theta_2)*cos(\\theta_3) - sin(\\theta_1)*sin(\\theta_3)*cos(\\theta_2), -cos(\\theta_1), a_2*sin(\\theta_1)*cos(\\theta_2) - a_3*sin(\\theta_1)*sin(\\theta_2)*sin(\\theta_3) + a_3*sin(\\theta_1)*cos(\\theta_2)*cos(\\theta_3)],\n",
              "[                             sin(\\theta_2)*cos(\\theta_3) + sin(\\theta_3)*cos(\\theta_2),                             -sin(\\theta_2)*sin(\\theta_3) + cos(\\theta_2)*cos(\\theta_3),              0,                                     a_2*sin(\\theta_2) + a_3*sin(\\theta_2)*cos(\\theta_3) + a_3*sin(\\theta_3)*cos(\\theta_2) + d_1],\n",
              "[                                                                                     0,                                                                                      0,              0,                                                                                                                               1]])"
            ]
          },
          "metadata": {
            "tags": []
          },
          "execution_count": 11
        }
      ]
    },
    {
      "cell_type": "markdown",
      "metadata": {
        "id": "uMcLWFZs_iu9"
      },
      "source": [
        "now we print all matrices"
      ]
    },
    {
      "cell_type": "code",
      "metadata": {
        "id": "O5UKAyaE_ntP",
        "colab": {
          "base_uri": "https://localhost:8080/",
          "height": 309
        },
        "outputId": "79bdf93e-14a9-495c-aec7-6b8d596526ae"
      },
      "source": [
        "antropomorphic.print_transorm_matrices()"
      ],
      "execution_count": null,
      "outputs": [
        {
          "output_type": "stream",
          "text": [
            "$$\n",
            "^0T_1 = \n",
            "\\left[\\begin{matrix}\\cos{\\left (\\theta_1 \\right )} & 0 & \\sin{\\left (\\theta_1 \\right )} & 0\\\\\\sin{\\left (\\theta_1 \\right )} & 0 & - \\cos{\\left (\\theta_1 \\right )} & 0\\\\0 & 1 & 0 & d_{1}\\\\0 & 0 & 0 & 1\\end{matrix}\\right]\n",
            "$$\n",
            "$$\n",
            "^1T_2 = \n",
            "\\left[\\begin{matrix}\\cos{\\left (\\theta_2 \\right )} & - \\sin{\\left (\\theta_2 \\right )} & 0 & a_{2} \\cos{\\left (\\theta_2 \\right )}\\\\\\sin{\\left (\\theta_2 \\right )} & \\cos{\\left (\\theta_2 \\right )} & 0 & a_{2} \\sin{\\left (\\theta_2 \\right )}\\\\0 & 0 & 1 & 0\\\\0 & 0 & 0 & 1\\end{matrix}\\right]\n",
            "$$\n",
            "$$\n",
            "^2T_3 = \n",
            "\\left[\\begin{matrix}\\cos{\\left (\\theta_3 \\right )} & - \\sin{\\left (\\theta_3 \\right )} & 0 & a_{3} \\cos{\\left (\\theta_3 \\right )}\\\\\\sin{\\left (\\theta_3 \\right )} & \\cos{\\left (\\theta_3 \\right )} & 0 & a_{3} \\sin{\\left (\\theta_3 \\right )}\\\\0 & 0 & 1 & 0\\\\0 & 0 & 0 & 1\\end{matrix}\\right]\n",
            "$$\n",
            "$$\n",
            "^0 T_3 = \n",
            "\\left[\\begin{matrix}- \\sin{\\left (\\theta_2 \\right )} \\sin{\\left (\\theta_3 \\right )} \\cos{\\left (\\theta_1 \\right )} + \\cos{\\left (\\theta_1 \\right )} \\cos{\\left (\\theta_2 \\right )} \\cos{\\left (\\theta_3 \\right )} & - \\sin{\\left (\\theta_2 \\right )} \\cos{\\left (\\theta_1 \\right )} \\cos{\\left (\\theta_3 \\right )} - \\sin{\\left (\\theta_3 \\right )} \\cos{\\left (\\theta_1 \\right )} \\cos{\\left (\\theta_2 \\right )} & \\sin{\\left (\\theta_1 \\right )} & a_{2} \\cos{\\left (\\theta_1 \\right )} \\cos{\\left (\\theta_2 \\right )} - a_{3} \\sin{\\left (\\theta_2 \\right )} \\sin{\\left (\\theta_3 \\right )} \\cos{\\left (\\theta_1 \\right )} + a_{3} \\cos{\\left (\\theta_1 \\right )} \\cos{\\left (\\theta_2 \\right )} \\cos{\\left (\\theta_3 \\right )}\\\\- \\sin{\\left (\\theta_1 \\right )} \\sin{\\left (\\theta_2 \\right )} \\sin{\\left (\\theta_3 \\right )} + \\sin{\\left (\\theta_1 \\right )} \\cos{\\left (\\theta_2 \\right )} \\cos{\\left (\\theta_3 \\right )} & - \\sin{\\left (\\theta_1 \\right )} \\sin{\\left (\\theta_2 \\right )} \\cos{\\left (\\theta_3 \\right )} - \\sin{\\left (\\theta_1 \\right )} \\sin{\\left (\\theta_3 \\right )} \\cos{\\left (\\theta_2 \\right )} & - \\cos{\\left (\\theta_1 \\right )} & a_{2} \\sin{\\left (\\theta_1 \\right )} \\cos{\\left (\\theta_2 \\right )} - a_{3} \\sin{\\left (\\theta_1 \\right )} \\sin{\\left (\\theta_2 \\right )} \\sin{\\left (\\theta_3 \\right )} + a_{3} \\sin{\\left (\\theta_1 \\right )} \\cos{\\left (\\theta_2 \\right )} \\cos{\\left (\\theta_3 \\right )}\\\\\\sin{\\left (\\theta_2 \\right )} \\cos{\\left (\\theta_3 \\right )} + \\sin{\\left (\\theta_3 \\right )} \\cos{\\left (\\theta_2 \\right )} & - \\sin{\\left (\\theta_2 \\right )} \\sin{\\left (\\theta_3 \\right )} + \\cos{\\left (\\theta_2 \\right )} \\cos{\\left (\\theta_3 \\right )} & 0 & a_{2} \\sin{\\left (\\theta_2 \\right )} + a_{3} \\sin{\\left (\\theta_2 \\right )} \\cos{\\left (\\theta_3 \\right )} + a_{3} \\sin{\\left (\\theta_3 \\right )} \\cos{\\left (\\theta_2 \\right )} + d_{1}\\\\0 & 0 & 0 & 1\\end{matrix}\\right]\n",
            "$$\n"
          ],
          "name": "stdout"
        }
      ]
    },
    {
      "cell_type": "code",
      "metadata": {
        "id": "8V5kcraY3bCo"
      },
      "source": [
        "spheric = dh(3)\n",
        "spheric.table[0]['d'] = 0\n",
        "spheric.table[0]['a'] = 0\n",
        "spheric.table[0]['al'] = sympy.rad(90)\n",
        "\n",
        "spheric.table[1]['d'] = 0\n",
        "spheric.table[1]['a'] = 0\n",
        "spheric.table[1]['al'] = sympy.rad(-90)\n",
        "\n",
        "spheric.table[2]['t'] = 0\n",
        "spheric.table[2]['a'] = 0\n",
        "spheric.table[2]['al'] = 0\n",
        "spheric.table[2]['x'] = 'd'"
      ],
      "execution_count": null,
      "outputs": []
    },
    {
      "cell_type": "code",
      "metadata": {
        "id": "nGC1VSZFJsJ8"
      },
      "source": [
        "cylindrical = dh(3)\n",
        "cylindrical.table[0]['d'] = 0\n",
        "cylindrical.table[0]['a'] = 0\n",
        "cylindrical.table[0]['al'] = 0\n",
        "\n",
        "cylindrical.table[1]['t'] = 0\n",
        "cylindrical.table[1]['a'] = 0\n",
        "cylindrical.table[1]['al'] = sympy.rad(90)\n",
        "cylindrical.table[1]['x'] = 'd'\n",
        "\n",
        "cylindrical.table[2]['t'] = 0\n",
        "cylindrical.table[2]['a'] = 0\n",
        "cylindrical.table[2]['al'] = sympy.rad(-90)\n",
        "cylindrical.table[2]['x'] = 'd'"
      ],
      "execution_count": null,
      "outputs": []
    },
    {
      "cell_type": "code",
      "metadata": {
        "id": "Qi61cqj6NdPU"
      },
      "source": [
        "scara = dh(3)\n",
        "scara.table[0]['al'] = 0\n",
        "\n",
        "scara.table[1]['d'] = 0\n",
        "scara.table[1]['al'] = sympy.rad(180)\n",
        "\n",
        "scara.table[2]['t'] = 0\n",
        "scara.table[2]['a'] = 0\n",
        "scara.table[2]['al'] = 0\n",
        "scara.table[2]['x'] = 'd'"
      ],
      "execution_count": null,
      "outputs": []
    },
    {
      "cell_type": "code",
      "metadata": {
        "id": "7NRpDRiysO46",
        "colab": {
          "base_uri": "https://localhost:8080/",
          "height": 34
        },
        "outputId": "4796fead-4c4d-45cf-b69a-f5139464b597"
      },
      "source": [
        "sympy.expand_trig(sympy.sin(sympy.symbols('x') + sympy.symbols('y')))"
      ],
      "execution_count": null,
      "outputs": [
        {
          "output_type": "execute_result",
          "data": {
            "text/plain": [
              "sin(x)*cos(y) + sin(y)*cos(x)"
            ]
          },
          "metadata": {
            "tags": []
          },
          "execution_count": 4
        }
      ]
    },
    {
      "cell_type": "code",
      "metadata": {
        "id": "33Zo-Yx4Kxza",
        "colab": {
          "base_uri": "https://localhost:8080/",
          "height": 34
        },
        "outputId": "402176b1-750d-4fc2-cb06-4315c7be7475"
      },
      "source": [
        "import sympy\n",
        "\n",
        "x,y = sympy.symbols('x,y', real = True)\n",
        "f =     (x-1)**2  +  3*x*y  -  (y-2)**2\n",
        "#x = sympy.solve(sympy.diff(f,x))[0][x]\n",
        "#f =     (x-1)**2  +  3*x*y  -  (y-2)**2\n",
        "#sympy.solve(sympy.diff(f,y))\n",
        "sympy.solve(sympy.diff(f,x))"
      ],
      "execution_count": null,
      "outputs": [
        {
          "output_type": "execute_result",
          "data": {
            "text/plain": [
              "[{x: -3*y/2 + 1}]"
            ]
          },
          "metadata": {
            "tags": []
          },
          "execution_count": 34
        }
      ]
    },
    {
      "cell_type": "code",
      "metadata": {
        "id": "erivnA0vMlht",
        "colab": {
          "base_uri": "https://localhost:8080/",
          "height": 34
        },
        "outputId": "9d0b815b-1425-4a3b-9af6-6da9b4ff1963"
      },
      "source": [
        "import sympy\n",
        "\n",
        "x,y = sympy.symbols('x,y', real = True)\n",
        "f =     (x-1)**2  +  3*x*y  -  (y-2)**2\n",
        "sympy.solve(sympy.diff(f,x))\n",
        "x = sympy.solve(sympy.diff(f,x))[0][x]\n",
        "f =     (x-1)**2  +  3*x*y  -  (y-2)**2\n",
        "sympy.solve(sympy.diff(f,y))\n"
      ],
      "execution_count": null,
      "outputs": [
        {
          "output_type": "execute_result",
          "data": {
            "text/plain": [
              "[14/13]"
            ]
          },
          "metadata": {
            "tags": []
          },
          "execution_count": 36
        }
      ]
    },
    {
      "cell_type": "code",
      "metadata": {
        "id": "RikfZ0yWOY3p",
        "colab": {
          "base_uri": "https://localhost:8080/",
          "height": 34
        },
        "outputId": "e8db4ff2-850c-4b3a-8d81-b967debc0d11"
      },
      "source": [
        "-3.*(14/13)/2. + 1, 14/13"
      ],
      "execution_count": null,
      "outputs": [
        {
          "output_type": "execute_result",
          "data": {
            "text/plain": [
              "(-0.6153846153846154, 1.0769230769230769)"
            ]
          },
          "metadata": {
            "tags": []
          },
          "execution_count": 38
        }
      ]
    },
    {
      "cell_type": "code",
      "metadata": {
        "id": "UDaOjGfxP6af",
        "colab": {
          "base_uri": "https://localhost:8080/",
          "height": 34
        },
        "outputId": "81125008-2144-44f5-8b28-9be10e33e0a0"
      },
      "source": [
        "import sympy\n",
        "\n",
        "x,y = sympy.symbols('x,y', real = True)\n",
        "f =     (x-1)**2  +  3*x*y  -  (y-2)**2\n",
        "\n",
        "fxx = sympy.diff(sympy.diff(f,x),x)\n",
        "fyy = sympy.diff(sympy.diff(f,y),y)\n",
        "fxy = sympy.diff(sympy.diff(f,y),x)\n",
        "\n",
        "w = sympy.Matrix([[fxx, fxy],[fxy, fyy]])\n",
        "\n",
        "sympy.det(w)\n",
        "\n",
        "\n",
        "fxx,fxy, fyy\n"
      ],
      "execution_count": null,
      "outputs": [
        {
          "output_type": "execute_result",
          "data": {
            "text/plain": [
              "(2, 3, 2)"
            ]
          },
          "metadata": {
            "tags": []
          },
          "execution_count": 29
        }
      ]
    },
    {
      "cell_type": "code",
      "metadata": {
        "id": "MlXRPlNaVBYA",
        "colab": {
          "base_uri": "https://localhost:8080/",
          "height": 34
        },
        "outputId": "12f211fc-372f-43b1-ce1b-e2904bc00076"
      },
      "source": [
        "import sympy\n",
        "\n",
        "x,y = sympy.symbols('x,y', real = True)\n",
        "f =     (x-1)**2  +  3*x*y  -  (y-2)**2\n",
        "\n",
        "fxx = sympy.diff(sympy.diff(f,x),x)\n",
        "fyy = sympy.diff(sympy.diff(f,y),y)\n",
        "fxy = sympy.diff(sympy.diff(f,y),x)\n",
        "\n",
        "fxx, sympy.diff(f,x)"
      ],
      "execution_count": null,
      "outputs": [
        {
          "output_type": "execute_result",
          "data": {
            "text/plain": [
              "(2, 2*x + 3*y - 2)"
            ]
          },
          "metadata": {
            "tags": []
          },
          "execution_count": 30
        }
      ]
    },
    {
      "cell_type": "code",
      "metadata": {
        "id": "9GLkti5pVRS5",
        "colab": {
          "base_uri": "https://localhost:8080/",
          "height": 34
        },
        "outputId": "fbf5dc1f-8928-4387-abd8-9b084a705335"
      },
      "source": [
        "2*1.6 - 3*0.4 - 2"
      ],
      "execution_count": null,
      "outputs": [
        {
          "output_type": "execute_result",
          "data": {
            "text/plain": [
              "0.0"
            ]
          },
          "metadata": {
            "tags": []
          },
          "execution_count": 31
        }
      ]
    }
  ]
}