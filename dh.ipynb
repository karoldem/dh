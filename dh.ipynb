{
  "nbformat": 4,
  "nbformat_minor": 0,
  "metadata": {
    "colab": {
      "name": "dh.ipynb",
      "provenance": [],
      "authorship_tag": "ABX9TyN1VMIW1uaSOaF6HXts67eN",
      "include_colab_link": true
    },
    "kernelspec": {
      "name": "python3",
      "display_name": "Python 3"
    }
  },
  "cells": [
    {
      "cell_type": "markdown",
      "metadata": {
        "id": "view-in-github",
        "colab_type": "text"
      },
      "source": [
        "<a href=\"https://colab.research.google.com/github/karoldem/dh/blob/master/dh.ipynb\" target=\"_parent\"><img src=\"https://colab.research.google.com/assets/colab-badge.svg\" alt=\"Open In Colab\"/></a>"
      ]
    },
    {
      "cell_type": "code",
      "metadata": {
        "id": "rKKmTKhW3oI5",
        "colab_type": "code",
        "colab": {}
      },
      "source": [
        "import sympy\n",
        "\n",
        "class dh:\n",
        "  def __init__(self,n):\n",
        "    self.table = []\n",
        "    for i in range (n):\n",
        "      self.table.append({'a': sympy.symbols(r'a_' + str(i+1)),\n",
        "                  'al':sympy.symbols(r'\\alpha_' + str(i+1)),\n",
        "                  'd': sympy.symbols(r'd_' +  str(i+1)),\n",
        "                  't': sympy.symbols(r'\\theta_' +  str(i+1))\n",
        "                  })\n",
        "\n",
        "  def dhm(self,i):\n",
        "    return (sympy.Matrix([[sympy.cos(i['t']), -sympy.sin(i['t'])*sympy.cos(i['al']), sympy.sin(i['t'])*sympy.sin(i['al']), i['a']*sympy.cos(i['t'])],\n",
        "                          [sympy.sin(i['t']), sympy.cos(i['t'])*sympy.cos(i['al']), -sympy.cos(i['t'])*sympy.sin(i['al']), i['a']*sympy.sin(i['t'])],\n",
        "                          [0, sympy.sin(i['al']), sympy.cos(i['al']), i['d']],\n",
        "                          [0,0,0,1]]))\n",
        "    \n",
        "  def makematrix (self):\n",
        "    t = sympy.eye(4)\n",
        "    for i in self.table:\n",
        "      t = t*self.dhm(i)\n",
        "    return t\n",
        "  \n",
        "  def jacobian (self,x):\n",
        "    correct_x = sympy.Matrix(1,0,[])\n",
        "    for i in x:\n",
        "      correct_x = sympy.Matrix([i]).col_insert(0,correct_x)\n",
        "      pass\n",
        "    \n",
        "    t = sympy.eye(4)\n",
        "    for i in self.table:\n",
        "      t = t*self.dhm(i)\n",
        "\n",
        "    self.placement = t * sympy.Matrix([[0,0,0,1]]).T\n",
        "    j = self.placement.T.jacobian( correct_x )\n",
        "    j.row_del(3)\n",
        "\n",
        "    for i in range(len( j )):\n",
        "      j[i] = sympy.simplify( j[i] )\n",
        "    \n",
        "    return j\n",
        "    \n",
        "  def print_transorm_matrices(self):\n",
        "    for i in range (len( self.table )):\n",
        "      t = self.dhm( self.table[i] )\n",
        "\n",
        "      for j in range (16):\n",
        "        t[j] = sympy.simplify(t[j])\n",
        "      \n",
        "      print (r'$$')\n",
        "      print (r'^' + str(i) + r'T_' +str(i+1) +  r' = ')\n",
        "      print(str(sympy.latex(t)))\n",
        "      print (r'$$')\n",
        "\n",
        "    print (r'$$')\n",
        "    print (r'^0 T_'+ str(len(self.table)) + r' = ')\n",
        "    print(str(sympy.latex( self.makematrix() )))\n",
        "    print (r'$$')"
      ],
      "execution_count": 0,
      "outputs": []
    },
    {
      "cell_type": "markdown",
      "metadata": {
        "id": "xjzO4JQPWxE2",
        "colab_type": "text"
      },
      "source": [
        "Here we define our robot constructor created dh table in field `table` with special kind of variables (google sympy library for more). To define a robot, user must replace those variables with constants (or any other type - free country).\n",
        "If you happen to contribute, let us agree, that this is what makes a robot waht it is and any other method must base on it (unlike in FreeCAD projest if you know what I mean)"
      ]
    },
    {
      "cell_type": "code",
      "metadata": {
        "id": "poOxXPD4AwLx",
        "colab_type": "code",
        "colab": {}
      },
      "source": [
        "antropomorphic = dh(3) #constructor creates dh table with special kind of variables (google sympy library for more)\n",
        "\n",
        "#here we replace those variables with constatns (al means alpha, t means theta)\n",
        "antropomorphic.table[0]['a'] = 0\n",
        "antropomorphic.table[0]['al'] = sympy.rad(90)\n",
        "\n",
        "antropomorphic.table[1]['d'] = 0\n",
        "antropomorphic.table[1]['al'] = 0\n",
        "\n",
        "antropomorphic.table[2]['d'] = 0\n",
        "antropomorphic.table[2]['al'] = 0"
      ],
      "execution_count": 0,
      "outputs": []
    },
    {
      "cell_type": "markdown",
      "metadata": {
        "id": "oYflInlFyjTT",
        "colab_type": "text"
      },
      "source": [
        "method `dhm(n)` creates matrix of transformation between nth and (n-1)th coordinate system."
      ]
    },
    {
      "cell_type": "code",
      "metadata": {
        "id": "Xk-OUAkn-BoS",
        "colab_type": "code",
        "colab": {
          "base_uri": "https://localhost:8080/",
          "height": 102
        },
        "outputId": "d79d65f5-9643-41f0-8cff-c4fa15f6844a"
      },
      "source": [
        "antropomorphic.dhm(antropomorphic.table[2])"
      ],
      "execution_count": 19,
      "outputs": [
        {
          "output_type": "execute_result",
          "data": {
            "text/plain": [
              "Matrix([\n",
              "[cos(\\theta_3), -sin(\\theta_3), 0, a_3*cos(\\theta_3)],\n",
              "[sin(\\theta_3),  cos(\\theta_3), 0, a_3*sin(\\theta_3)],\n",
              "[            0,              0, 1,                 0],\n",
              "[            0,              0, 0,                 1]])"
            ]
          },
          "metadata": {
            "tags": []
          },
          "execution_count": 19
        }
      ]
    },
    {
      "cell_type": "markdown",
      "metadata": {
        "id": "wK70gGs2-rEA",
        "colab_type": "text"
      },
      "source": [
        "method makematrix() returns transform matrix between zeroth system and TCP"
      ]
    },
    {
      "cell_type": "code",
      "metadata": {
        "id": "51snbySx_Llw",
        "colab_type": "code",
        "colab": {
          "base_uri": "https://localhost:8080/",
          "height": 122
        },
        "outputId": "16828a6a-9987-459c-88be-8fe6c41120aa"
      },
      "source": [
        "antropomorphic.makematrix()"
      ],
      "execution_count": 20,
      "outputs": [
        {
          "output_type": "execute_result",
          "data": {
            "text/plain": [
              "Matrix([\n",
              "[-sin(\\theta_2)*sin(\\theta_3)*cos(\\theta_1) + cos(\\theta_1)*cos(\\theta_2)*cos(\\theta_3), -sin(\\theta_2)*cos(\\theta_1)*cos(\\theta_3) - sin(\\theta_3)*cos(\\theta_1)*cos(\\theta_2),  sin(\\theta_1), a_2*cos(\\theta_1)*cos(\\theta_2) - a_3*sin(\\theta_2)*sin(\\theta_3)*cos(\\theta_1) + a_3*cos(\\theta_1)*cos(\\theta_2)*cos(\\theta_3)],\n",
              "[-sin(\\theta_1)*sin(\\theta_2)*sin(\\theta_3) + sin(\\theta_1)*cos(\\theta_2)*cos(\\theta_3), -sin(\\theta_1)*sin(\\theta_2)*cos(\\theta_3) - sin(\\theta_1)*sin(\\theta_3)*cos(\\theta_2), -cos(\\theta_1), a_2*sin(\\theta_1)*cos(\\theta_2) - a_3*sin(\\theta_1)*sin(\\theta_2)*sin(\\theta_3) + a_3*sin(\\theta_1)*cos(\\theta_2)*cos(\\theta_3)],\n",
              "[                             sin(\\theta_2)*cos(\\theta_3) + sin(\\theta_3)*cos(\\theta_2),                             -sin(\\theta_2)*sin(\\theta_3) + cos(\\theta_2)*cos(\\theta_3),              0,                                     a_2*sin(\\theta_2) + a_3*sin(\\theta_2)*cos(\\theta_3) + a_3*sin(\\theta_3)*cos(\\theta_2) + d_1],\n",
              "[                                                                                     0,                                                                                      0,              0,                                                                                                                               1]])"
            ]
          },
          "metadata": {
            "tags": []
          },
          "execution_count": 20
        }
      ]
    },
    {
      "cell_type": "markdown",
      "metadata": {
        "id": "uMcLWFZs_iu9",
        "colab_type": "text"
      },
      "source": [
        "now we print all matrices"
      ]
    },
    {
      "cell_type": "code",
      "metadata": {
        "id": "O5UKAyaE_ntP",
        "colab_type": "code",
        "colab": {
          "base_uri": "https://localhost:8080/",
          "height": 309
        },
        "outputId": "3a3aabd7-d7d6-411a-d8b0-61bddb8e0ea5"
      },
      "source": [
        "antropomorphic.print_transorm_matrices()"
      ],
      "execution_count": 21,
      "outputs": [
        {
          "output_type": "stream",
          "text": [
            "$$\n",
            "^0T_1 = \n",
            "\\left[\\begin{matrix}\\cos{\\left (\\theta_1 \\right )} & 0 & \\sin{\\left (\\theta_1 \\right )} & 0\\\\\\sin{\\left (\\theta_1 \\right )} & 0 & - \\cos{\\left (\\theta_1 \\right )} & 0\\\\0 & 1 & 0 & d_{1}\\\\0 & 0 & 0 & 1\\end{matrix}\\right]\n",
            "$$\n",
            "$$\n",
            "^1T_2 = \n",
            "\\left[\\begin{matrix}\\cos{\\left (\\theta_2 \\right )} & - \\sin{\\left (\\theta_2 \\right )} & 0 & a_{2} \\cos{\\left (\\theta_2 \\right )}\\\\\\sin{\\left (\\theta_2 \\right )} & \\cos{\\left (\\theta_2 \\right )} & 0 & a_{2} \\sin{\\left (\\theta_2 \\right )}\\\\0 & 0 & 1 & 0\\\\0 & 0 & 0 & 1\\end{matrix}\\right]\n",
            "$$\n",
            "$$\n",
            "^2T_3 = \n",
            "\\left[\\begin{matrix}\\cos{\\left (\\theta_3 \\right )} & - \\sin{\\left (\\theta_3 \\right )} & 0 & a_{3} \\cos{\\left (\\theta_3 \\right )}\\\\\\sin{\\left (\\theta_3 \\right )} & \\cos{\\left (\\theta_3 \\right )} & 0 & a_{3} \\sin{\\left (\\theta_3 \\right )}\\\\0 & 0 & 1 & 0\\\\0 & 0 & 0 & 1\\end{matrix}\\right]\n",
            "$$\n",
            "$$\n",
            "^0 T_3 = \n",
            "\\left[\\begin{matrix}- \\sin{\\left (\\theta_2 \\right )} \\sin{\\left (\\theta_3 \\right )} \\cos{\\left (\\theta_1 \\right )} + \\cos{\\left (\\theta_1 \\right )} \\cos{\\left (\\theta_2 \\right )} \\cos{\\left (\\theta_3 \\right )} & - \\sin{\\left (\\theta_2 \\right )} \\cos{\\left (\\theta_1 \\right )} \\cos{\\left (\\theta_3 \\right )} - \\sin{\\left (\\theta_3 \\right )} \\cos{\\left (\\theta_1 \\right )} \\cos{\\left (\\theta_2 \\right )} & \\sin{\\left (\\theta_1 \\right )} & a_{2} \\cos{\\left (\\theta_1 \\right )} \\cos{\\left (\\theta_2 \\right )} - a_{3} \\sin{\\left (\\theta_2 \\right )} \\sin{\\left (\\theta_3 \\right )} \\cos{\\left (\\theta_1 \\right )} + a_{3} \\cos{\\left (\\theta_1 \\right )} \\cos{\\left (\\theta_2 \\right )} \\cos{\\left (\\theta_3 \\right )}\\\\- \\sin{\\left (\\theta_1 \\right )} \\sin{\\left (\\theta_2 \\right )} \\sin{\\left (\\theta_3 \\right )} + \\sin{\\left (\\theta_1 \\right )} \\cos{\\left (\\theta_2 \\right )} \\cos{\\left (\\theta_3 \\right )} & - \\sin{\\left (\\theta_1 \\right )} \\sin{\\left (\\theta_2 \\right )} \\cos{\\left (\\theta_3 \\right )} - \\sin{\\left (\\theta_1 \\right )} \\sin{\\left (\\theta_3 \\right )} \\cos{\\left (\\theta_2 \\right )} & - \\cos{\\left (\\theta_1 \\right )} & a_{2} \\sin{\\left (\\theta_1 \\right )} \\cos{\\left (\\theta_2 \\right )} - a_{3} \\sin{\\left (\\theta_1 \\right )} \\sin{\\left (\\theta_2 \\right )} \\sin{\\left (\\theta_3 \\right )} + a_{3} \\sin{\\left (\\theta_1 \\right )} \\cos{\\left (\\theta_2 \\right )} \\cos{\\left (\\theta_3 \\right )}\\\\\\sin{\\left (\\theta_2 \\right )} \\cos{\\left (\\theta_3 \\right )} + \\sin{\\left (\\theta_3 \\right )} \\cos{\\left (\\theta_2 \\right )} & - \\sin{\\left (\\theta_2 \\right )} \\sin{\\left (\\theta_3 \\right )} + \\cos{\\left (\\theta_2 \\right )} \\cos{\\left (\\theta_3 \\right )} & 0 & a_{2} \\sin{\\left (\\theta_2 \\right )} + a_{3} \\sin{\\left (\\theta_2 \\right )} \\cos{\\left (\\theta_3 \\right )} + a_{3} \\sin{\\left (\\theta_3 \\right )} \\cos{\\left (\\theta_2 \\right )} + d_{1}\\\\0 & 0 & 0 & 1\\end{matrix}\\right]\n",
            "$$\n"
          ],
          "name": "stdout"
        }
      ]
    },
    {
      "cell_type": "markdown",
      "metadata": {
        "id": "ZrIGDaTHpR9U",
        "colab_type": "text"
      },
      "source": [
        "method `jacobian()` returns jacobian matrix. Arguments of this function are variables controlling a robot, that must be taken form `table` field (well, they don't actually, but the column of this not-a-variable would be zero).\n"
      ]
    },
    {
      "cell_type": "code",
      "metadata": {
        "id": "w-55vXg2yD_N",
        "colab_type": "code",
        "colab": {
          "base_uri": "https://localhost:8080/",
          "height": 105
        },
        "outputId": "7f11b2e4-476a-44da-b035-8c0aa71166fa"
      },
      "source": [
        "j = antropomorphic.jacobian([antropomorphic.table[0]['t'], \n",
        "                         antropomorphic.table[1]['t'], \n",
        "                         antropomorphic.table[2]['t'] ])\n",
        "print(r'$$')\n",
        "print(str(sympy.latex( j )))\n",
        "print(r'$$')\n",
        "print('')"
      ],
      "execution_count": 22,
      "outputs": [
        {
          "output_type": "stream",
          "text": [
            "$$\n",
            "\\left[\\begin{matrix}- \\left(a_{2} \\cos{\\left (\\theta_2 \\right )} + a_{3} \\cos{\\left (\\theta_2 + \\theta_3 \\right )}\\right) \\sin{\\left (\\theta_1 \\right )} & - \\left(a_{2} \\sin{\\left (\\theta_2 \\right )} + a_{3} \\sin{\\left (\\theta_2 + \\theta_3 \\right )}\\right) \\cos{\\left (\\theta_1 \\right )} & - a_{3} \\sin{\\left (\\theta_2 + \\theta_3 \\right )} \\cos{\\left (\\theta_1 \\right )}\\\\\\left(a_{2} \\cos{\\left (\\theta_2 \\right )} + a_{3} \\cos{\\left (\\theta_2 + \\theta_3 \\right )}\\right) \\cos{\\left (\\theta_1 \\right )} & - \\left(a_{2} \\sin{\\left (\\theta_2 \\right )} + a_{3} \\sin{\\left (\\theta_2 + \\theta_3 \\right )}\\right) \\sin{\\left (\\theta_1 \\right )} & - a_{3} \\sin{\\left (\\theta_1 \\right )} \\sin{\\left (\\theta_2 + \\theta_3 \\right )}\\\\0 & a_{2} \\cos{\\left (\\theta_2 \\right )} + a_{3} \\cos{\\left (\\theta_2 + \\theta_3 \\right )} & a_{3} \\cos{\\left (\\theta_2 + \\theta_3 \\right )}\\end{matrix}\\right]\n",
            "$$\n",
            "\n"
          ],
          "name": "stdout"
        }
      ]
    }
  ]
}