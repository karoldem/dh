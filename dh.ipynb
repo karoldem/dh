{
  "nbformat": 4,
  "nbformat_minor": 0,
  "metadata": {
    "colab": {
      "name": "dh.ipynb",
      "provenance": [],
      "authorship_tag": "ABX9TyNYCcOkbSoGYzAWh1dSbZc/",
      "include_colab_link": true
    },
    "kernelspec": {
      "name": "python3",
      "display_name": "Python 3"
    }
  },
  "cells": [
    {
      "cell_type": "markdown",
      "metadata": {
        "id": "view-in-github",
        "colab_type": "text"
      },
      "source": [
        "<a href=\"https://colab.research.google.com/github/karoldem/dh/blob/master/dh.ipynb\" target=\"_parent\"><img src=\"https://colab.research.google.com/assets/colab-badge.svg\" alt=\"Open In Colab\"/></a>"
      ]
    },
    {
      "cell_type": "code",
      "metadata": {
        "id": "rKKmTKhW3oI5",
        "colab_type": "code",
        "colab": {}
      },
      "source": [
        "import sympy\n",
        "\n",
        "class dh:\n",
        "  def __init__(self,n):\n",
        "    self.table = []\n",
        "    for i in range (n):\n",
        "      self.table.append({'a': sympy.symbols(r'a_' + str(i+1), real = True),\n",
        "                  'al':sympy.symbols(r'\\alpha_' + str(i+1), real = True),\n",
        "                  'd': sympy.symbols(r'd_' +  str(i+1), real = True),\n",
        "                  't': sympy.symbols(r'\\theta_' +  str(i+1), real = True)\n",
        "                  })\n",
        "\n",
        "  def dhm(self,i):\n",
        "    return (sympy.Matrix([[sympy.cos(i['t']), -sympy.sin(i['t'])*sympy.cos(i['al']), sympy.sin(i['t'])*sympy.sin(i['al']), i['a']*sympy.cos(i['t'])],\n",
        "                          [sympy.sin(i['t']), sympy.cos(i['t'])*sympy.cos(i['al']), -sympy.cos(i['t'])*sympy.sin(i['al']), i['a']*sympy.sin(i['t'])],\n",
        "                          [0, sympy.sin(i['al']), sympy.cos(i['al']), i['d']],\n",
        "                          [0,0,0,1]]))\n",
        "    \n",
        "  def makematrix (self):\n",
        "    t = sympy.eye(4)\n",
        "    for i in self.table:\n",
        "      t = t*self.dhm(i)\n",
        "    return t\n",
        "  \n",
        "  def jacobian (self,x):\n",
        "    correct_x = sympy.Matrix(1,0,[])\n",
        "    for i in x:\n",
        "      correct_x = sympy.Matrix([i]).col_insert(0,correct_x)\n",
        "      pass\n",
        "    \n",
        "    t = sympy.eye(4)\n",
        "    for i in self.table:\n",
        "      t = t*self.dhm(i)\n",
        "\n",
        "    self.placement = t * sympy.Matrix([[0,0,0,1]]).T\n",
        "    j = self.placement.T.jacobian( correct_x )\n",
        "    j.row_del(3)\n",
        "\n",
        "    for i in range(len( j )):\n",
        "      j[i] = sympy.simplify( j[i] )\n",
        "    \n",
        "    return j\n",
        "    \n",
        "  def print_transorm_matrices(self):\n",
        "    for i in range (len( self.table )):\n",
        "      t = self.dhm( self.table[i] )\n",
        "\n",
        "      for j in range (16):\n",
        "        t[j] = sympy.simplify(t[j])\n",
        "      \n",
        "      print (r'$$')\n",
        "      print (r'^' + str(i) + r'T_' +str(i+1) +  r' = ')\n",
        "      print(str(sympy.latex(t)))\n",
        "      print (r'$$')\n",
        "\n",
        "    print (r'$$')\n",
        "    print (r'^0 T_'+ str(len(self.table)) + r' = ')\n",
        "    print(str(sympy.latex( self.makematrix() )))\n",
        "    print (r'$$')"
      ],
      "execution_count": 0,
      "outputs": []
    },
    {
      "cell_type": "markdown",
      "metadata": {
        "id": "xjzO4JQPWxE2",
        "colab_type": "text"
      },
      "source": [
        "Here we define our robot constructor created dh table in field `table` with special kind of variables (google sympy library for more). To define a robot, user must replace those variables with constants (or any other type - free country).\n",
        "If you happen to contribute, let us agree, that this is what makes a robot waht it is and any other method must base on it (unlike in FreeCAD projest if you know what I mean)"
      ]
    },
    {
      "cell_type": "code",
      "metadata": {
        "id": "poOxXPD4AwLx",
        "colab_type": "code",
        "colab": {}
      },
      "source": [
        "antropomorphic = dh(3) #constructor creates dh table with special kind of variables (google sympy library for more)\n",
        "\n",
        "#here we replace those variables with constatns (al means alpha, t means theta)\n",
        "antropomorphic.table[0]['a'] = 0\n",
        "antropomorphic.table[0]['al'] = sympy.rad(90)\n",
        "\n",
        "antropomorphic.table[1]['d'] = 0\n",
        "antropomorphic.table[1]['al'] = 0\n",
        "\n",
        "antropomorphic.table[2]['d'] = 0\n",
        "antropomorphic.table[2]['al'] = 0"
      ],
      "execution_count": 0,
      "outputs": []
    },
    {
      "cell_type": "markdown",
      "metadata": {
        "id": "oYflInlFyjTT",
        "colab_type": "text"
      },
      "source": [
        "method `dhm(n)` creates matrix of transformation between nth and (n-1)th coordinate system."
      ]
    },
    {
      "cell_type": "code",
      "metadata": {
        "id": "Xk-OUAkn-BoS",
        "colab_type": "code",
        "outputId": "818b3acc-8be2-4594-fc45-bb5777d19ab2",
        "colab": {
          "base_uri": "https://localhost:8080/",
          "height": 102
        }
      },
      "source": [
        "antropomorphic.dhm(antropomorphic.table[2])"
      ],
      "execution_count": 0,
      "outputs": [
        {
          "output_type": "execute_result",
          "data": {
            "text/plain": [
              "Matrix([\n",
              "[cos(\\theta_3), -sin(\\theta_3), 0, a_3*cos(\\theta_3)],\n",
              "[sin(\\theta_3),  cos(\\theta_3), 0, a_3*sin(\\theta_3)],\n",
              "[            0,              0, 1,                 0],\n",
              "[            0,              0, 0,                 1]])"
            ]
          },
          "metadata": {
            "tags": []
          },
          "execution_count": 58
        }
      ]
    },
    {
      "cell_type": "markdown",
      "metadata": {
        "id": "wK70gGs2-rEA",
        "colab_type": "text"
      },
      "source": [
        "method makematrix() returns transform matrix between zeroth system and TCP"
      ]
    },
    {
      "cell_type": "code",
      "metadata": {
        "id": "51snbySx_Llw",
        "colab_type": "code",
        "outputId": "612bf15d-4cc4-4c2b-a5e2-db359252528a",
        "colab": {
          "base_uri": "https://localhost:8080/",
          "height": 122
        }
      },
      "source": [
        "antropomorphic.makematrix()"
      ],
      "execution_count": 0,
      "outputs": [
        {
          "output_type": "execute_result",
          "data": {
            "text/plain": [
              "Matrix([\n",
              "[-sin(\\theta_2)*sin(\\theta_3)*cos(\\theta_1) + cos(\\theta_1)*cos(\\theta_2)*cos(\\theta_3), -sin(\\theta_2)*cos(\\theta_1)*cos(\\theta_3) - sin(\\theta_3)*cos(\\theta_1)*cos(\\theta_2),  sin(\\theta_1), a_2*cos(\\theta_1)*cos(\\theta_2) - a_3*sin(\\theta_2)*sin(\\theta_3)*cos(\\theta_1) + a_3*cos(\\theta_1)*cos(\\theta_2)*cos(\\theta_3)],\n",
              "[-sin(\\theta_1)*sin(\\theta_2)*sin(\\theta_3) + sin(\\theta_1)*cos(\\theta_2)*cos(\\theta_3), -sin(\\theta_1)*sin(\\theta_2)*cos(\\theta_3) - sin(\\theta_1)*sin(\\theta_3)*cos(\\theta_2), -cos(\\theta_1), a_2*sin(\\theta_1)*cos(\\theta_2) - a_3*sin(\\theta_1)*sin(\\theta_2)*sin(\\theta_3) + a_3*sin(\\theta_1)*cos(\\theta_2)*cos(\\theta_3)],\n",
              "[                             sin(\\theta_2)*cos(\\theta_3) + sin(\\theta_3)*cos(\\theta_2),                             -sin(\\theta_2)*sin(\\theta_3) + cos(\\theta_2)*cos(\\theta_3),              0,                                     a_2*sin(\\theta_2) + a_3*sin(\\theta_2)*cos(\\theta_3) + a_3*sin(\\theta_3)*cos(\\theta_2) + d_1],\n",
              "[                                                                                     0,                                                                                      0,              0,                                                                                                                               1]])"
            ]
          },
          "metadata": {
            "tags": []
          },
          "execution_count": 59
        }
      ]
    },
    {
      "cell_type": "markdown",
      "metadata": {
        "id": "uMcLWFZs_iu9",
        "colab_type": "text"
      },
      "source": [
        "now we print all matrices"
      ]
    },
    {
      "cell_type": "code",
      "metadata": {
        "id": "O5UKAyaE_ntP",
        "colab_type": "code",
        "outputId": "2fca81f2-302d-460c-f236-2f3108f0ac74",
        "colab": {
          "base_uri": "https://localhost:8080/",
          "height": 309
        }
      },
      "source": [
        "antropomorphic.print_transorm_matrices()"
      ],
      "execution_count": 0,
      "outputs": [
        {
          "output_type": "stream",
          "text": [
            "$$\n",
            "^0T_1 = \n",
            "\\left[\\begin{matrix}\\cos{\\left (\\theta_1 \\right )} & 0 & \\sin{\\left (\\theta_1 \\right )} & 0\\\\\\sin{\\left (\\theta_1 \\right )} & 0 & - \\cos{\\left (\\theta_1 \\right )} & 0\\\\0 & 1 & 0 & d_{1}\\\\0 & 0 & 0 & 1\\end{matrix}\\right]\n",
            "$$\n",
            "$$\n",
            "^1T_2 = \n",
            "\\left[\\begin{matrix}\\cos{\\left (\\theta_2 \\right )} & - \\sin{\\left (\\theta_2 \\right )} & 0 & a_{2} \\cos{\\left (\\theta_2 \\right )}\\\\\\sin{\\left (\\theta_2 \\right )} & \\cos{\\left (\\theta_2 \\right )} & 0 & a_{2} \\sin{\\left (\\theta_2 \\right )}\\\\0 & 0 & 1 & 0\\\\0 & 0 & 0 & 1\\end{matrix}\\right]\n",
            "$$\n",
            "$$\n",
            "^2T_3 = \n",
            "\\left[\\begin{matrix}\\cos{\\left (\\theta_3 \\right )} & - \\sin{\\left (\\theta_3 \\right )} & 0 & a_{3} \\cos{\\left (\\theta_3 \\right )}\\\\\\sin{\\left (\\theta_3 \\right )} & \\cos{\\left (\\theta_3 \\right )} & 0 & a_{3} \\sin{\\left (\\theta_3 \\right )}\\\\0 & 0 & 1 & 0\\\\0 & 0 & 0 & 1\\end{matrix}\\right]\n",
            "$$\n",
            "$$\n",
            "^0 T_3 = \n",
            "\\left[\\begin{matrix}- \\sin{\\left (\\theta_2 \\right )} \\sin{\\left (\\theta_3 \\right )} \\cos{\\left (\\theta_1 \\right )} + \\cos{\\left (\\theta_1 \\right )} \\cos{\\left (\\theta_2 \\right )} \\cos{\\left (\\theta_3 \\right )} & - \\sin{\\left (\\theta_2 \\right )} \\cos{\\left (\\theta_1 \\right )} \\cos{\\left (\\theta_3 \\right )} - \\sin{\\left (\\theta_3 \\right )} \\cos{\\left (\\theta_1 \\right )} \\cos{\\left (\\theta_2 \\right )} & \\sin{\\left (\\theta_1 \\right )} & a_{2} \\cos{\\left (\\theta_1 \\right )} \\cos{\\left (\\theta_2 \\right )} - a_{3} \\sin{\\left (\\theta_2 \\right )} \\sin{\\left (\\theta_3 \\right )} \\cos{\\left (\\theta_1 \\right )} + a_{3} \\cos{\\left (\\theta_1 \\right )} \\cos{\\left (\\theta_2 \\right )} \\cos{\\left (\\theta_3 \\right )}\\\\- \\sin{\\left (\\theta_1 \\right )} \\sin{\\left (\\theta_2 \\right )} \\sin{\\left (\\theta_3 \\right )} + \\sin{\\left (\\theta_1 \\right )} \\cos{\\left (\\theta_2 \\right )} \\cos{\\left (\\theta_3 \\right )} & - \\sin{\\left (\\theta_1 \\right )} \\sin{\\left (\\theta_2 \\right )} \\cos{\\left (\\theta_3 \\right )} - \\sin{\\left (\\theta_1 \\right )} \\sin{\\left (\\theta_3 \\right )} \\cos{\\left (\\theta_2 \\right )} & - \\cos{\\left (\\theta_1 \\right )} & a_{2} \\sin{\\left (\\theta_1 \\right )} \\cos{\\left (\\theta_2 \\right )} - a_{3} \\sin{\\left (\\theta_1 \\right )} \\sin{\\left (\\theta_2 \\right )} \\sin{\\left (\\theta_3 \\right )} + a_{3} \\sin{\\left (\\theta_1 \\right )} \\cos{\\left (\\theta_2 \\right )} \\cos{\\left (\\theta_3 \\right )}\\\\\\sin{\\left (\\theta_2 \\right )} \\cos{\\left (\\theta_3 \\right )} + \\sin{\\left (\\theta_3 \\right )} \\cos{\\left (\\theta_2 \\right )} & - \\sin{\\left (\\theta_2 \\right )} \\sin{\\left (\\theta_3 \\right )} + \\cos{\\left (\\theta_2 \\right )} \\cos{\\left (\\theta_3 \\right )} & 0 & a_{2} \\sin{\\left (\\theta_2 \\right )} + a_{3} \\sin{\\left (\\theta_2 \\right )} \\cos{\\left (\\theta_3 \\right )} + a_{3} \\sin{\\left (\\theta_3 \\right )} \\cos{\\left (\\theta_2 \\right )} + d_{1}\\\\0 & 0 & 0 & 1\\end{matrix}\\right]\n",
            "$$\n"
          ],
          "name": "stdout"
        }
      ]
    },
    {
      "cell_type": "markdown",
      "metadata": {
        "id": "ZrIGDaTHpR9U",
        "colab_type": "text"
      },
      "source": [
        "method `jacobian()` returns jacobian matrix. Arguments of this function are variables controlling a robot, that must be taken form `table` field (well, they don't actually, but the column of this not-a-variable would be zero).\n"
      ]
    },
    {
      "cell_type": "code",
      "metadata": {
        "id": "w-55vXg2yD_N",
        "colab_type": "code",
        "outputId": "91e3520f-193e-4353-af60-cfd4634cbe5a",
        "colab": {
          "base_uri": "https://localhost:8080/",
          "height": 105
        }
      },
      "source": [
        "j = antropomorphic.jacobian([antropomorphic.table[0]['t'], \n",
        "                         antropomorphic.table[1]['t'], \n",
        "                         antropomorphic.table[2]['t'] ])\n",
        "print(r'$$')\n",
        "print(str(sympy.latex( j )))\n",
        "print(r'$$')\n",
        "print('')"
      ],
      "execution_count": 0,
      "outputs": [
        {
          "output_type": "stream",
          "text": [
            "$$\n",
            "\\left[\\begin{matrix}- \\left(a_{2} \\cos{\\left (\\theta_2 \\right )} + a_{3} \\cos{\\left (\\theta_2 + \\theta_3 \\right )}\\right) \\sin{\\left (\\theta_1 \\right )} & - \\left(a_{2} \\sin{\\left (\\theta_2 \\right )} + a_{3} \\sin{\\left (\\theta_2 + \\theta_3 \\right )}\\right) \\cos{\\left (\\theta_1 \\right )} & - a_{3} \\sin{\\left (\\theta_2 + \\theta_3 \\right )} \\cos{\\left (\\theta_1 \\right )}\\\\\\left(a_{2} \\cos{\\left (\\theta_2 \\right )} + a_{3} \\cos{\\left (\\theta_2 + \\theta_3 \\right )}\\right) \\cos{\\left (\\theta_1 \\right )} & - \\left(a_{2} \\sin{\\left (\\theta_2 \\right )} + a_{3} \\sin{\\left (\\theta_2 + \\theta_3 \\right )}\\right) \\sin{\\left (\\theta_1 \\right )} & - a_{3} \\sin{\\left (\\theta_1 \\right )} \\sin{\\left (\\theta_2 + \\theta_3 \\right )}\\\\0 & a_{2} \\cos{\\left (\\theta_2 \\right )} + a_{3} \\cos{\\left (\\theta_2 + \\theta_3 \\right )} & a_{3} \\cos{\\left (\\theta_2 + \\theta_3 \\right )}\\end{matrix}\\right]\n",
            "$$\n",
            "\n"
          ],
          "name": "stdout"
        }
      ]
    },
    {
      "cell_type": "code",
      "metadata": {
        "id": "8V5kcraY3bCo",
        "colab_type": "code",
        "colab": {}
      },
      "source": [
        "spheric = dh(3)\n",
        "spheric.table[0]['d'] = 0\n",
        "spheric.table[0]['a'] = 0\n",
        "spheric.table[0]['al'] = sympy.rad(90)\n",
        "\n",
        "spheric.table[1]['d'] = 0\n",
        "spheric.table[1]['a'] = 0\n",
        "spheric.table[1]['al'] = sympy.rad(-90)\n",
        "\n",
        "spheric.table[2]['t'] = 0\n",
        "spheric.table[2]['a'] = 0\n",
        "spheric.table[2]['al'] = 0"
      ],
      "execution_count": 0,
      "outputs": []
    },
    {
      "cell_type": "code",
      "metadata": {
        "id": "vf6H8G5J-NOF",
        "colab_type": "code",
        "outputId": "7cbb4838-13e1-4504-d029-82a7e1534e95",
        "colab": {
          "base_uri": "https://localhost:8080/",
          "height": 34
        }
      },
      "source": [
        "j = spheric.jacobian([spheric.table[0]['t'],  spheric.table[1]['t'], spheric.table[2]['d']])\n",
        "det = sympy.simplify(j.det())\n",
        "sympy.solve (det, spheric.table[0]['t']), sympy.solve (det, spheric.table[1]['t']), sympy.solve (det, spheric.table[2]['d'])"
      ],
      "execution_count": 0,
      "outputs": [
        {
          "output_type": "execute_result",
          "data": {
            "text/plain": [
              "([], [0, pi], [0])"
            ]
          },
          "metadata": {
            "tags": []
          },
          "execution_count": 63
        }
      ]
    },
    {
      "cell_type": "code",
      "metadata": {
        "id": "-i-B61re8iRE",
        "colab_type": "code",
        "outputId": "3a996741-a075-4b1a-8f11-bc0bf4507e88",
        "colab": {
          "base_uri": "https://localhost:8080/",
          "height": 105
        }
      },
      "source": [
        "print(r'$$')\n",
        "print(str(sympy.latex( j )))\n",
        "print(r'$$')\n",
        "print('')"
      ],
      "execution_count": 0,
      "outputs": [
        {
          "output_type": "stream",
          "text": [
            "$$\n",
            "\\left[\\begin{matrix}d_{3} \\sin{\\left (\\theta_1 \\right )} \\sin{\\left (\\theta_2 \\right )} & - d_{3} \\cos{\\left (\\theta_1 \\right )} \\cos{\\left (\\theta_2 \\right )} & - \\sin{\\left (\\theta_2 \\right )} \\cos{\\left (\\theta_1 \\right )}\\\\- d_{3} \\sin{\\left (\\theta_2 \\right )} \\cos{\\left (\\theta_1 \\right )} & - d_{3} \\sin{\\left (\\theta_1 \\right )} \\cos{\\left (\\theta_2 \\right )} & - \\sin{\\left (\\theta_1 \\right )} \\sin{\\left (\\theta_2 \\right )}\\\\0 & - d_{3} \\sin{\\left (\\theta_2 \\right )} & \\cos{\\left (\\theta_2 \\right )}\\end{matrix}\\right]\n",
            "$$\n",
            "\n"
          ],
          "name": "stdout"
        }
      ]
    },
    {
      "cell_type": "code",
      "metadata": {
        "id": "-Z8z22go_FlX",
        "colab_type": "code",
        "outputId": "f8047daf-a91d-4b82-c1f9-8e4ea89de74d",
        "colab": {
          "base_uri": "https://localhost:8080/",
          "height": 34
        }
      },
      "source": [
        "j = antropomorphic.jacobian([antropomorphic.table[0]['t'],  antropomorphic.table[1]['t'], antropomorphic.table[2]['t']])\n",
        "det = sympy.simplify(j.det())\n",
        "sympy.solve (det, antropomorphic.table[0]['t']), sympy.solve (det, antropomorphic.table[1]['t']), sympy.solve (det, antropomorphic.table[2]['t'])\n",
        "sympy.im(sympy.solve (det, antropomorphic.table[1]['t'])[1])"
      ],
      "execution_count": 0,
      "outputs": [
        {
          "output_type": "execute_result",
          "data": {
            "text/plain": [
              "-log(Abs(sqrt(-a_2*exp(I*\\theta_3)/(a_2*exp(I*\\theta_3) + a_3*exp(2*I*\\theta_3)) - a_3/(a_2*exp(I*\\theta_3) + a_3*exp(2*I*\\theta_3)))))"
            ]
          },
          "metadata": {
            "tags": []
          },
          "execution_count": 78
        }
      ]
    },
    {
      "cell_type": "code",
      "metadata": {
        "id": "hbjAA5yPBSz3",
        "colab_type": "code",
        "outputId": "18ba3845-7eec-47ff-af97-bedcfc099542",
        "colab": {
          "base_uri": "https://localhost:8080/",
          "height": 105
        }
      },
      "source": [
        "print(r'$$')\n",
        "print(str(sympy.latex( j )))\n",
        "print(r'$$')\n",
        "print('')"
      ],
      "execution_count": 0,
      "outputs": [
        {
          "output_type": "stream",
          "text": [
            "$$\n",
            "\\left[\\begin{matrix}- \\left(a_{2} \\cos{\\left (\\theta_2 \\right )} + a_{3} \\cos{\\left (\\theta_2 + \\theta_3 \\right )}\\right) \\sin{\\left (\\theta_1 \\right )} & - \\left(a_{2} \\sin{\\left (\\theta_2 \\right )} + a_{3} \\sin{\\left (\\theta_2 + \\theta_3 \\right )}\\right) \\cos{\\left (\\theta_1 \\right )} & - a_{3} \\sin{\\left (\\theta_2 + \\theta_3 \\right )} \\cos{\\left (\\theta_1 \\right )}\\\\\\left(a_{2} \\cos{\\left (\\theta_2 \\right )} + a_{3} \\cos{\\left (\\theta_2 + \\theta_3 \\right )}\\right) \\cos{\\left (\\theta_1 \\right )} & - \\left(a_{2} \\sin{\\left (\\theta_2 \\right )} + a_{3} \\sin{\\left (\\theta_2 + \\theta_3 \\right )}\\right) \\sin{\\left (\\theta_1 \\right )} & - a_{3} \\sin{\\left (\\theta_1 \\right )} \\sin{\\left (\\theta_2 + \\theta_3 \\right )}\\\\0 & a_{2} \\cos{\\left (\\theta_2 \\right )} + a_{3} \\cos{\\left (\\theta_2 + \\theta_3 \\right )} & a_{3} \\cos{\\left (\\theta_2 + \\theta_3 \\right )}\\end{matrix}\\right]\n",
            "$$\n",
            "\n"
          ],
          "name": "stdout"
        }
      ]
    },
    {
      "cell_type": "code",
      "metadata": {
        "id": "nGC1VSZFJsJ8",
        "colab_type": "code",
        "colab": {}
      },
      "source": [
        "cylindrical = dh(3)\n",
        "cylindrical.table[0]['d'] = 0\n",
        "cylindrical.table[0]['a'] = 0\n",
        "cylindrical.table[0]['al'] = 0\n",
        "\n",
        "cylindrical.table[1]['t'] = 0\n",
        "cylindrical.table[1]['a'] = 0\n",
        "cylindrical.table[1]['al'] = sympy.rad(90)\n",
        "\n",
        "cylindrical.table[2]['t'] = 0\n",
        "cylindrical.table[2]['a'] = 0\n",
        "cylindrical.table[2]['al'] = sympy.rad(-90)"
      ],
      "execution_count": 0,
      "outputs": []
    },
    {
      "cell_type": "code",
      "metadata": {
        "colab_type": "code",
        "outputId": "70646668-df7a-44d6-9680-e852194d195b",
        "id": "f75Oe5asKknL",
        "colab": {
          "base_uri": "https://localhost:8080/",
          "height": 105
        }
      },
      "source": [
        "j = cylindrical.jacobian([cylindrical.table[0]['t'],  cylindrical.table[1]['d'], cylindrical.table[2]['d']])\n",
        "det = sympy.simplify(j.det())\n",
        "sympy.solve (det, cylindrical.table[0]['t']), sympy.solve (det, cylindrical.table[1]['d']), sympy.solve (det, cylindrical.table[2]['d'])\n",
        "\n",
        "print(r'$$')\n",
        "print(str(sympy.latex( j )))\n",
        "print(r'$$')\n",
        "print('')"
      ],
      "execution_count": 0,
      "outputs": [
        {
          "output_type": "stream",
          "text": [
            "$$\n",
            "\\left[\\begin{matrix}d_{3} \\cos{\\left (\\theta_1 \\right )} & 0 & \\sin{\\left (\\theta_1 \\right )}\\\\d_{3} \\sin{\\left (\\theta_1 \\right )} & 0 & - \\cos{\\left (\\theta_1 \\right )}\\\\0 & 1 & 0\\end{matrix}\\right]\n",
            "$$\n",
            "\n"
          ],
          "name": "stdout"
        }
      ]
    },
    {
      "cell_type": "code",
      "metadata": {
        "id": "Qi61cqj6NdPU",
        "colab_type": "code",
        "colab": {}
      },
      "source": [
        "scara = dh(3)\n",
        "scara.table[0]['al'] = 0\n",
        "\n",
        "scara.table[1]['d'] = 0\n",
        "scara.table[1]['al'] = sympy.rad(180)\n",
        "\n",
        "scara.table[2]['t'] = 0\n",
        "scara.table[2]['a'] = 0\n",
        "scara.table[2]['al'] = 0"
      ],
      "execution_count": 0,
      "outputs": []
    },
    {
      "cell_type": "code",
      "metadata": {
        "id": "Je1CVKSgN8dC",
        "colab_type": "code",
        "outputId": "e4fa12c5-decf-4895-c2f8-1f02fc014c96",
        "colab": {
          "base_uri": "https://localhost:8080/",
          "height": 34
        }
      },
      "source": [
        "j = scara.jacobian([scara.table[0]['t'],  scara.table[1]['t'], scara.table[2]['d']])\n",
        "det = sympy.simplify(j.det())\n",
        "sympy.solve (det, scara.table[0]['t']), sympy.solve (det, scara.table[1]['t']), sympy.solve (det, scara.table[2]['d'])"
      ],
      "execution_count": 0,
      "outputs": [
        {
          "output_type": "execute_result",
          "data": {
            "text/plain": [
              "([], [0, pi], [])"
            ]
          },
          "metadata": {
            "tags": []
          },
          "execution_count": 88
        }
      ]
    },
    {
      "cell_type": "code",
      "metadata": {
        "id": "Ty909XMeThER",
        "colab_type": "code",
        "outputId": "4408bf03-18b9-4d19-8f72-bcdbc57c61a2",
        "colab": {
          "base_uri": "https://localhost:8080/",
          "height": 105
        }
      },
      "source": [
        "\n",
        "print(r'$$')\n",
        "print(str(sympy.latex( j )))\n",
        "print(r'$$')\n",
        "print('')"
      ],
      "execution_count": 0,
      "outputs": [
        {
          "output_type": "stream",
          "text": [
            "$$\n",
            "\\left[\\begin{matrix}- a_{1} \\sin{\\left (\\theta_1 \\right )} - a_{2} \\sin{\\left (\\theta_1 + \\theta_2 \\right )} & - a_{2} \\sin{\\left (\\theta_1 + \\theta_2 \\right )} & 0\\\\a_{1} \\cos{\\left (\\theta_1 \\right )} + a_{2} \\cos{\\left (\\theta_1 + \\theta_2 \\right )} & a_{2} \\cos{\\left (\\theta_1 + \\theta_2 \\right )} & 0\\\\0 & 0 & -1\\end{matrix}\\right]\n",
            "$$\n",
            "\n"
          ],
          "name": "stdout"
        }
      ]
    },
    {
      "cell_type": "code",
      "metadata": {
        "id": "WTyg52hwVNPH",
        "colab_type": "code",
        "outputId": "a6a7102b-499a-4657-8b68-16db1f43ceeb",
        "colab": {
          "base_uri": "https://localhost:8080/",
          "height": 309
        }
      },
      "source": [
        "scara.print_transorm_matrices()"
      ],
      "execution_count": 0,
      "outputs": [
        {
          "output_type": "stream",
          "text": [
            "$$\n",
            "^0T_1 = \n",
            "\\left[\\begin{matrix}\\cos{\\left (\\theta_1 \\right )} & - \\sin{\\left (\\theta_1 \\right )} & 0 & a_{1} \\cos{\\left (\\theta_1 \\right )}\\\\\\sin{\\left (\\theta_1 \\right )} & \\cos{\\left (\\theta_1 \\right )} & 0 & a_{1} \\sin{\\left (\\theta_1 \\right )}\\\\0 & 0 & 1 & d_{1}\\\\0 & 0 & 0 & 1\\end{matrix}\\right]\n",
            "$$\n",
            "$$\n",
            "^1T_2 = \n",
            "\\left[\\begin{matrix}\\cos{\\left (\\theta_2 \\right )} & \\sin{\\left (\\theta_2 \\right )} & 0 & a_{2} \\cos{\\left (\\theta_2 \\right )}\\\\\\sin{\\left (\\theta_2 \\right )} & - \\cos{\\left (\\theta_2 \\right )} & 0 & a_{2} \\sin{\\left (\\theta_2 \\right )}\\\\0 & 0 & -1 & 0\\\\0 & 0 & 0 & 1\\end{matrix}\\right]\n",
            "$$\n",
            "$$\n",
            "^2T_3 = \n",
            "\\left[\\begin{matrix}1 & 0 & 0 & 0\\\\0 & 1 & 0 & 0\\\\0 & 0 & 1 & d_{3}\\\\0 & 0 & 0 & 1\\end{matrix}\\right]\n",
            "$$\n",
            "$$\n",
            "^0 T_3 = \n",
            "\\left[\\begin{matrix}- \\sin{\\left (\\theta_1 \\right )} \\sin{\\left (\\theta_2 \\right )} + \\cos{\\left (\\theta_1 \\right )} \\cos{\\left (\\theta_2 \\right )} & \\sin{\\left (\\theta_1 \\right )} \\cos{\\left (\\theta_2 \\right )} + \\sin{\\left (\\theta_2 \\right )} \\cos{\\left (\\theta_1 \\right )} & 0 & a_{1} \\cos{\\left (\\theta_1 \\right )} - a_{2} \\sin{\\left (\\theta_1 \\right )} \\sin{\\left (\\theta_2 \\right )} + a_{2} \\cos{\\left (\\theta_1 \\right )} \\cos{\\left (\\theta_2 \\right )}\\\\\\sin{\\left (\\theta_1 \\right )} \\cos{\\left (\\theta_2 \\right )} + \\sin{\\left (\\theta_2 \\right )} \\cos{\\left (\\theta_1 \\right )} & \\sin{\\left (\\theta_1 \\right )} \\sin{\\left (\\theta_2 \\right )} - \\cos{\\left (\\theta_1 \\right )} \\cos{\\left (\\theta_2 \\right )} & 0 & a_{1} \\sin{\\left (\\theta_1 \\right )} + a_{2} \\sin{\\left (\\theta_1 \\right )} \\cos{\\left (\\theta_2 \\right )} + a_{2} \\sin{\\left (\\theta_2 \\right )} \\cos{\\left (\\theta_1 \\right )}\\\\0 & 0 & -1 & d_{1} - d_{3}\\\\0 & 0 & 0 & 1\\end{matrix}\\right]\n",
            "$$\n"
          ],
          "name": "stdout"
        }
      ]
    },
    {
      "cell_type": "code",
      "metadata": {
        "id": "y9i2PQCCWqF0",
        "colab_type": "code",
        "outputId": "1f9eaea7-36d0-4e50-f087-4db26e1197c6",
        "colab": {
          "base_uri": "https://localhost:8080/",
          "height": 102
        }
      },
      "source": [
        "certesian = dh(3)\n",
        "certesian.table[0]['al'] = sympy.rad(-90)\n",
        "certesian.table[0]['a'] = 0\n",
        "certesian.table[0]['t'] = 0\n",
        "\n",
        "certesian.table[1]['al'] = sympy.rad(90)\n",
        "certesian.table[1]['a'] = 0\n",
        "certesian.table[1]['t'] = sympy.rad(90)\n",
        "\n",
        "certesian.table[2]['al'] = 0\n",
        "certesian.table[2]['a'] = 0\n",
        "certesian.table[2]['t'] = 0\n",
        "\n",
        "j = certesian.jacobian([certesian.table[0]['d'],  certesian.table[1]['d'], certesian.table[2]['d']])\n",
        "det = sympy.simplify(j.det())\n",
        "\n",
        "print(r'$$')\n",
        "print(str(sympy.latex( j )))\n",
        "print(r'$$')\n",
        "print('')\n",
        "\n",
        "sympy.solve (det, certesian.table[0]['d']), sympy.solve (det, certesian.table[1]['d']), sympy.solve (det, certesian.table[2]['d'])"
      ],
      "execution_count": 0,
      "outputs": [
        {
          "output_type": "stream",
          "text": [
            "$$\n",
            "\\left[\\begin{matrix}0 & 0 & 1\\\\0 & 1 & 0\\\\1 & 0 & 0\\end{matrix}\\right]\n",
            "$$\n",
            "\n"
          ],
          "name": "stdout"
        },
        {
          "output_type": "execute_result",
          "data": {
            "text/plain": [
              "([], [], [])"
            ]
          },
          "metadata": {
            "tags": []
          },
          "execution_count": 93
        }
      ]
    }
  ]
}